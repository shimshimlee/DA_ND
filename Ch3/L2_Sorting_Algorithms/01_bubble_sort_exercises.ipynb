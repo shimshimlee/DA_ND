{
 "cells": [
  {
   "cell_type": "markdown",
   "metadata": {
    "graffitiCellId": "id_cje9nsj"
   },
   "source": [
    "# Bubble Sort Exercises\n",
    "Now that you know how about bubble sort works, you'll implement bubble sort for two exercises."
   ]
  },
  {
   "cell_type": "markdown",
   "metadata": {
    "graffitiCellId": "id_t9tqtch"
   },
   "source": [
    "## Exercise 1"
   ]
  },
  {
   "cell_type": "markdown",
   "metadata": {
    "graffitiCellId": "id_gqzp0au"
   },
   "source": [
    "Sam records when they wake up every morning. Assuming Sam always wakes up in the same hour, use bubble sort to sort by earliest to latest.\n",
    "\n"
   ]
  },
  {
   "cell_type": "code",
   "execution_count": 10,
   "metadata": {
    "graffitiCellId": "id_5lff1yj"
   },
   "outputs": [],
   "source": [
    "wakeup_times = [16,49,3,12,56,49,55,22,13,46,19,55,46,13,25,56,9,48,45]\n",
    "def bubble_sort_1(l):\n",
    "    # TODO: Implement bubble sort solution\n",
    "    pass\n",
    "\n"
   ]
  },
  {
   "cell_type": "markdown",
   "metadata": {
    "graffitiCellId": "id_y26wn0b"
   },
   "source": [
    "<span class=\"graffiti-highlight graffiti-id_y26wn0b-id_uppmlq4\"><i></i><button>Hide Solution</button></span>"
   ]
  },
  {
   "cell_type": "code",
   "execution_count": 6,
   "metadata": {
    "graffitiCellId": "id_uppmlq4"
   },
   "outputs": [],
   "source": [
    "def bubble_sort_1(l):\n",
    "    for iteration in range(len(l)):\n",
    "        for index in range(1, len(l)):\n",
    "            this = l[index]\n",
    "            prev = l[index - 1]\n",
    "\n",
    "            if prev <= this:\n",
    "                continue\n",
    "\n",
    "            l[index] = prev\n",
    "            l[index - 1] = this"
   ]
  },
  {
   "cell_type": "code",
   "execution_count": 8,
   "metadata": {},
   "outputs": [],
   "source": [
    "def bubble_sort(l):\n",
    "    n = len(l)\n",
    "    for i in range(n):\n",
    "        swapped = False\n",
    "        for j in range(0, n - i - 1):  # 줄어드는 범위\n",
    "            if l[j] > l[j + 1]:\n",
    "                l[j], l[j + 1] = l[j + 1], l[j]\n",
    "                swapped = True\n",
    "        if not swapped:\n",
    "            break  # 더 이상 바뀌는 게 없다면 종료 (최적화)"
   ]
  },
  {
   "cell_type": "code",
   "execution_count": 11,
   "metadata": {},
   "outputs": [
    {
     "name": "stdout",
     "output_type": "stream",
     "text": [
      "Pass\n",
      "[3, 9, 12, 13, 13, 16, 19, 22, 25, 45, 46, 46, 48, 49, 49, 55, 55, 56, 56]\n"
     ]
    }
   ],
   "source": [
    "# bubble_sort_1(wakeup_times)\n",
    "bubble_sort(wakeup_times)\n",
    "print (\"Pass\" if (wakeup_times[0] == 3) else \"Fail\")\n",
    "print(wakeup_times)"
   ]
  },
  {
   "cell_type": "markdown",
   "metadata": {
    "graffitiCellId": "id_qeyh6km"
   },
   "source": [
    "## Exercise 2"
   ]
  },
  {
   "cell_type": "markdown",
   "metadata": {
    "graffitiCellId": "id_yapmadk"
   },
   "source": [
    "Sam doesn't always go to sleep in the same hour. Given the following times Sam has gone to sleep, sort the times from latest to earliest."
   ]
  },
  {
   "cell_type": "code",
   "execution_count": null,
   "metadata": {
    "graffitiCellId": "id_dx34e9v"
   },
   "outputs": [],
   "source": [
    "# Entries are (h, m) where h is the hour and m is the minute\n",
    "sleep_times = [(24,13), (21,55), (23,20), (22,5), (24,23), (21,58), (24,3)]\n",
    "\n",
    "def bubble_sort_2(l):\n",
    "    # TODO: Implement bubble sort solution\n",
    "    pass\n",
    "\n",
    "bubble_sort_2(sleep_times)\n",
    "print (\"Pass\" if (sleep_times == [(24,23), (24,13), (24,3), (23,20), (22,5), (21,58), (21,55)]) else \"Fail\")"
   ]
  },
  {
   "cell_type": "markdown",
   "metadata": {
    "graffitiCellId": "id_f6s1i29"
   },
   "source": [
    "<span class=\"graffiti-highlight graffiti-id_f6s1i29-id_hxr8nmt\"><i></i><button>Hide Solution</button></span>"
   ]
  },
  {
   "cell_type": "code",
   "execution_count": null,
   "metadata": {
    "graffitiCellId": "id_hxr8nmt"
   },
   "outputs": [],
   "source": [
    "def bubble_sort_2(l):\n",
    "    for iteration in range(len(l)):\n",
    "        for index in range(1, len(l)):\n",
    "            this_hour, this_min = l[index]\n",
    "            prev_hour, prev_min = l[index - 1]\n",
    "\n",
    "            if prev_hour > this_hour or (prev_hour == this_hour and prev_min > this_min):\n",
    "                continue\n",
    "\n",
    "            l[index] = (prev_hour, prev_min)\n",
    "            l[index - 1] = (this_hour, this_min)"
   ]
  }
 ],
 "metadata": {
  "graffiti": {
   "firstAuthorId": "10694620118",
   "id": "id_0hd22kb",
   "language": "EN"
  },
  "kernelspec": {
   "display_name": "base",
   "language": "python",
   "name": "python3"
  },
  "language_info": {
   "codemirror_mode": {
    "name": "ipython",
    "version": 3
   },
   "file_extension": ".py",
   "mimetype": "text/x-python",
   "name": "python",
   "nbconvert_exporter": "python",
   "pygments_lexer": "ipython3",
   "version": "3.12.2"
  }
 },
 "nbformat": 4,
 "nbformat_minor": 2
}
