{
 "cells": [
  {
   "cell_type": "markdown",
   "id": "70e55bc8",
   "metadata": {},
   "source": [
    "# Reversing a linked list exercise\n",
    "\n",
    "Given a singly linked list, return another linked list that is the reverse of the first."
   ]
  },
  {
   "cell_type": "code",
   "execution_count": 1,
   "id": "89150bef",
   "metadata": {},
   "outputs": [],
   "source": [
    "# Helper Code\n",
    "\n",
    "class Node:\n",
    "    def __init__(self, value):\n",
    "        self.value = value\n",
    "        self.next = None\n",
    "\n",
    "class LinkedList:\n",
    "    def __init__(self):\n",
    "        self.head = None\n",
    "        \n",
    "    def append(self, value):\n",
    "        if self.head is None:\n",
    "            self.head = Node(value)\n",
    "            return\n",
    "        \n",
    "        node = self.head\n",
    "        while node.next:\n",
    "            node = node.next\n",
    "\n",
    "        node.next = Node(value)\n",
    "        \n",
    "    def __iter__(self):\n",
    "        node = self.head\n",
    "        while node:\n",
    "            yield node.value\n",
    "            node = node.next\n",
    "            \n",
    "    def __repr__(self):\n",
    "        return str([v for v in self])"
   ]
  },
  {
   "cell_type": "code",
   "execution_count": 2,
   "id": "fd6bc30e",
   "metadata": {},
   "outputs": [],
   "source": [
    "def reverse(linked_list):\n",
    "    \"\"\"\n",
    "    Reverse the inputted linked list\n",
    "\n",
    "    Args:\n",
    "       linked_list(obj): Linked List to be reversed\n",
    "    Returns:\n",
    "       obj: Reveresed Linked List\n",
    "    \"\"\"\n",
    "    \n",
    "    # TODO: Write your function to reverse linked lists here\n",
    "    new_list = LinkedList()\n",
    "    \n",
    "    prev_node = None\n",
    "\n",
    "    \"\"\"\n",
    "    A simple idea - Pick a node from the original linked list traversing form the beginning, and \n",
    "    prepend it to the new linked list. \n",
    "    We have to use a loop to iterate over the nodes of original linked list\n",
    "    \"\"\"\n",
    "    # In this \"for\" loop, the \"value\" is just a variable whose value will be updated in each iteration\n",
    "    print(linked_list)\n",
    "    for value in linked_list:\n",
    "        # create a new node\n",
    "        print(value)\n",
    "        new_node = Node(value)\n",
    "        \n",
    "        # Make the new_node.next point to the \n",
    "        # node created in previous iteration\n",
    "        new_node.next = prev_node \n",
    "        \n",
    "        # This is the last statement of the loop\n",
    "        # Mark the current new node as the \"prev_node\" for next iteration\n",
    "        prev_node = new_node\n",
    "    \n",
    "    # Update the new_list.head to point to the final node that came out of the loop\n",
    "    new_list.head = prev_node\n",
    "    \n",
    "    return new_list"
   ]
  },
  {
   "cell_type": "code",
   "execution_count": 3,
   "id": "77070a38",
   "metadata": {},
   "outputs": [
    {
     "name": "stdout",
     "output_type": "stream",
     "text": [
      "[4, 2, 5, 1, -3, 0]\n",
      "4\n",
      "2\n",
      "5\n",
      "1\n",
      "-3\n",
      "0\n",
      "[0, -3, 1, 5, 2, 4]\n",
      "0\n",
      "-3\n",
      "1\n",
      "5\n",
      "2\n",
      "4\n",
      "Pass\n"
     ]
    }
   ],
   "source": [
    "llist = LinkedList()\n",
    "for value in [4,2,5,1,-3,0]:\n",
    "    llist.append(value)\n",
    "\n",
    "flipped = reverse(llist)\n",
    "is_correct = list(flipped) == list([0,-3,1,5,2,4]) and list(llist) == list(reverse(flipped))\n",
    "print(\"Pass\" if is_correct else \"Fail\")"
   ]
  },
  {
   "cell_type": "code",
   "execution_count": null,
   "id": "0b4a43fe",
   "metadata": {},
   "outputs": [],
   "source": []
  }
 ],
 "metadata": {
  "kernelspec": {
   "display_name": "Python 3 (ipykernel)",
   "language": "python",
   "name": "python3"
  },
  "language_info": {
   "codemirror_mode": {
    "name": "ipython",
    "version": 3
   },
   "file_extension": ".py",
   "mimetype": "text/x-python",
   "name": "python",
   "nbconvert_exporter": "python",
   "pygments_lexer": "ipython3",
   "version": "3.8.10"
  }
 },
 "nbformat": 4,
 "nbformat_minor": 5
}
