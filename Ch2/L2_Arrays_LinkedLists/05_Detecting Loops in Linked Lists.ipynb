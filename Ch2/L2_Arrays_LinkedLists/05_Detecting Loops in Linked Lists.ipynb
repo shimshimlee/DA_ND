{
 "cells": [
  {
   "cell_type": "markdown",
   "id": "a24d5f96",
   "metadata": {},
   "source": [
    "# Detecting Loops in Linked Lists\n",
    "\n",
    "In this notebook, you'll implement a function that detects if a loop exists in a linked list. The way we'll do this is by having two pointers, called \"runners\", moving through the list at different rates. Typically we have a \"slow\" runner which moves at one node per step and a \"fast\" runner that moves at two nodes per step.\n",
    "\n",
    "If a loop exists in the list, the fast runner will eventually move behind the slow runner as it moves to the beginning of the loop. Eventually it will catch up to the slow runner and both runners will be pointing to the same node at the same time. If this happens then you know there is a loop in the linked list. Below is an example where we have a slow runner (the green arrow) and a fast runner (the red arrow).\n",
    "\n",
    "<center><img src='fig/two_runners_circular.png' alt=\"Visual walk through of the steps described above to determine if a loop exists in a linked list.\" width=300px></center>"
   ]
  },
  {
   "cell_type": "code",
   "execution_count": 1,
   "id": "96a3bfd0",
   "metadata": {},
   "outputs": [],
   "source": [
    "class Node:\n",
    "    def __init__(self, value):\n",
    "        self.value = value\n",
    "        self.next = None\n",
    "        \n",
    "class LinkedList:\n",
    "    def __init__(self, init_list=None):\n",
    "        self.head = None\n",
    "        if init_list:\n",
    "            for value in init_list:\n",
    "                self.append(value)\n",
    "        \n",
    "    def append(self, value):\n",
    "        if self.head is None:\n",
    "            self.head = Node(value)\n",
    "            return\n",
    "        \n",
    "        # Move to the tail (the last node)\n",
    "        node = self.head\n",
    "        while node.next:\n",
    "            node = node.next\n",
    "        \n",
    "        node.next = Node(value)\n",
    "        return"
   ]
  },
  {
   "cell_type": "code",
   "execution_count": 4,
   "id": "765fee5f",
   "metadata": {},
   "outputs": [],
   "source": [
    "list_with_loop = LinkedList([2, -1, 3, 0, 5])\n",
    "\n",
    "# Creating a loop where the last node points back to the second node\n",
    "loop_start = list_with_loop.head.next\n",
    "\n",
    "node = list_with_loop.head\n",
    "while node.next: \n",
    "    node = node.next   \n",
    "node.next = loop_start"
   ]
  },
  {
   "cell_type": "code",
   "execution_count": 5,
   "id": "56869738",
   "metadata": {},
   "outputs": [],
   "source": [
    "def iscircular(linked_list):\n",
    "    \"\"\"\n",
    "    Determine whether the Linked List is circular or not\n",
    "\n",
    "    Args:\n",
    "       linked_list(obj): Linked List to be checked\n",
    "    Returns:\n",
    "       bool: Return True if the linked list is circular, return False otherwise\n",
    "    \"\"\"\n",
    "    \n",
    "    # TODO: Write function to check if linked list is circular\n",
    "    \n",
    "    if linked_list.head is None :\n",
    "        return False\n",
    "    \n",
    "    slow = linked_list.head\n",
    "    fast = linked_list.head\n",
    "    \n",
    "    while fast.next :\n",
    "        slow = slow.next\n",
    "        fast = fast.next.next\n",
    "        \n",
    "        if slow == fast :\n",
    "            return True\n",
    "    \n",
    "    return False\n",
    "    \n",
    "    "
   ]
  },
  {
   "cell_type": "code",
   "execution_count": 6,
   "id": "3c8e76a4",
   "metadata": {},
   "outputs": [
    {
     "name": "stdout",
     "output_type": "stream",
     "text": [
      "Pass\n",
      "Fail\n",
      "Fail\n",
      "Pass\n",
      "Fail\n"
     ]
    }
   ],
   "source": [
    "# Test Cases\n",
    "\n",
    "# Create another circular linked list\n",
    "small_loop = LinkedList([0])\n",
    "small_loop.head.next = small_loop.head\n",
    "\n",
    "print (\"Pass\" if iscircular(list_with_loop) else \"Fail\")                  # Pass\n",
    "print (\"Pass\" if iscircular(LinkedList([-4, 7, 2, 5, -1])) else \"Fail\")   # Fail\n",
    "print (\"Pass\" if iscircular(LinkedList([1])) else \"Fail\")                 # Fail\n",
    "print (\"Pass\" if iscircular(small_loop) else \"Fail\")                      # Pass\n",
    "print (\"Pass\" if iscircular(LinkedList([])) else \"Fail\")                  # Fail\n"
   ]
  },
  {
   "cell_type": "code",
   "execution_count": null,
   "id": "7bbf8510",
   "metadata": {},
   "outputs": [],
   "source": []
  }
 ],
 "metadata": {
  "kernelspec": {
   "display_name": "Python 3 (ipykernel)",
   "language": "python",
   "name": "python3"
  },
  "language_info": {
   "codemirror_mode": {
    "name": "ipython",
    "version": 3
   },
   "file_extension": ".py",
   "mimetype": "text/x-python",
   "name": "python",
   "nbconvert_exporter": "python",
   "pygments_lexer": "ipython3",
   "version": "3.8.10"
  }
 },
 "nbformat": 4,
 "nbformat_minor": 5
}
