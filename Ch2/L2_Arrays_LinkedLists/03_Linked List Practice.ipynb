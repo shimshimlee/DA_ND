{
 "cells": [
  {
   "cell_type": "markdown",
   "id": "653b70de",
   "metadata": {},
   "source": [
    "# Linked List Practice\n",
    "\n",
    "Implement a linked list class. You have to define a few functions that perform the desirbale action. Your `LinkedList` class should be able to:\n",
    "\n",
    "+ Append data to the tail of the list and prepend to the head\n",
    "+ Search the linked list for a value and return the node\n",
    "+ Remove a node\n",
    "+ Pop, which means to return the first node's value and delete the node from the list\n",
    "+ Insert data at some position in the list\n",
    "+ Return the size (length) of the linked list"
   ]
  },
  {
   "cell_type": "code",
   "execution_count": 32,
   "id": "8624eb7e",
   "metadata": {},
   "outputs": [],
   "source": [
    "class Node :\n",
    "    def __init__(self, value) :\n",
    "        self.value = value\n",
    "        self.next = None\n",
    "\n",
    "class LinkedList :\n",
    "    def __init__ (self) :\n",
    "        self.head = None\n",
    "    \n",
    "    def to_list(self) :\n",
    "        out = []\n",
    "        node = self.head\n",
    "        while node :\n",
    "            out.append(node.value)\n",
    "            node = node.next\n",
    "        return out"
   ]
  },
  {
   "cell_type": "code",
   "execution_count": 33,
   "id": "a6956990",
   "metadata": {},
   "outputs": [],
   "source": [
    "# Define a function outside of the class\n",
    "def prepend(self, value):\n",
    "    \"\"\" Prepend a value to the beginning of the list. \"\"\"\n",
    "    # TODO: Write function to prepend here\n",
    "    if self.head is None :\n",
    "        self.head = Node(value)\n",
    "        return\n",
    "    \n",
    "    new_head = Node(value)\n",
    "    new_head.next = self.head\n",
    "    self.head = new_head\n",
    "\n",
    "\n",
    "# This is the way to add a function to a class after it has been defined\n",
    "LinkedList.prepend = prepend"
   ]
  },
  {
   "cell_type": "code",
   "execution_count": 34,
   "id": "1ef16dde",
   "metadata": {},
   "outputs": [],
   "source": [
    "# Test prepend\n",
    "linked_list = LinkedList()\n",
    "linked_list.prepend(1)\n",
    "assert linked_list.to_list() == [1], f\"list contents: {linked_list.to_list()}\"\n"
   ]
  },
  {
   "cell_type": "markdown",
   "id": "9cde2a68",
   "metadata": {},
   "source": [
    "#### Task 2. Write definition of `append()` function and test its functionality"
   ]
  },
  {
   "cell_type": "code",
   "execution_count": 35,
   "id": "227605b5",
   "metadata": {},
   "outputs": [],
   "source": [
    "def append(self, value):\n",
    "    \"\"\" Append a value to the end of the list. \"\"\"    \n",
    "    # TODO: Write function to append here    \n",
    "    if self.head is None :\n",
    "        self.head = Node(value)\n",
    "        return\n",
    "    \n",
    "    node = self.head\n",
    "    while node.next:\n",
    "        node = node.next\n",
    "\n",
    "    node.next = Node(value)\n",
    "\n",
    "LinkedList.append = append"
   ]
  },
  {
   "cell_type": "code",
   "execution_count": 36,
   "id": "42d0e8a5",
   "metadata": {},
   "outputs": [],
   "source": [
    "# Test append - 1\n",
    "linked_list.append(3)\n",
    "linked_list.prepend(2)\n",
    "assert linked_list.to_list() == [2, 1, 3], f\"list contents: {linked_list.to_list()}\"\n",
    "\n",
    "# Test append - 2\n",
    "linked_list = LinkedList()\n",
    "linked_list.append(1)\n",
    "assert linked_list.to_list() == [1], f\"list contents: {linked_list.to_list()}\"\n",
    "linked_list.append(3)\n",
    "assert linked_list.to_list() == [1, 3], f\"list contents: {linked_list.to_list()}\""
   ]
  },
  {
   "cell_type": "markdown",
   "id": "b21e2a85",
   "metadata": {},
   "source": [
    "#### Task 3. Write definition of `search()` function and test its functionality"
   ]
  },
  {
   "cell_type": "code",
   "execution_count": 37,
   "id": "22301c76",
   "metadata": {},
   "outputs": [],
   "source": [
    "def search(self, value):\n",
    "    \"\"\" Search the linked list for a node with the requested value and return the node. \"\"\"\n",
    "    # TODO: Write function to search here\n",
    "    if self.head is None:\n",
    "        return None\n",
    "\n",
    "    node = self.head\n",
    "    while node:\n",
    "        if node.value == value:\n",
    "            return node\n",
    "        node = node.next\n",
    "\n",
    "    raise ValueError(\"Value not found in the list.\")\n",
    "\n",
    "LinkedList.search = search"
   ]
  },
  {
   "cell_type": "code",
   "execution_count": 38,
   "id": "a8c432d1",
   "metadata": {},
   "outputs": [],
   "source": [
    "# Test search\n",
    "linked_list.prepend(2)\n",
    "linked_list.prepend(1)\n",
    "linked_list.append(4)\n",
    "linked_list.append(3)\n",
    "assert linked_list.search(1).value == 1, f\"list contents: {linked_list.to_list()}\"\n",
    "assert linked_list.search(4).value == 4, f\"list contents: {linked_list.to_list()}\""
   ]
  },
  {
   "cell_type": "markdown",
   "id": "3c30e9ec",
   "metadata": {},
   "source": [
    "#### Task 4. Write definition of `remove()` function and test its functionality"
   ]
  },
  {
   "cell_type": "code",
   "execution_count": 39,
   "id": "9b99bfd6",
   "metadata": {},
   "outputs": [],
   "source": [
    "def remove(self, value):\n",
    "    \"\"\" Remove first occurrence of value. \"\"\"\n",
    "    # TODO: Write function to remove here\n",
    "    if self.head is None :\n",
    "        return\n",
    "    \n",
    "    if self.head.value == value :\n",
    "        self.head = self.head.next \n",
    "        return\n",
    "    \n",
    "    node = self.head\n",
    "    while node.next :\n",
    "        if node.next.value == value :\n",
    "            node.next = node.next.next \n",
    "            return\n",
    "        node = node.next\n",
    "    \n",
    "    raise ValueError(\"Value not found in the list.\")\n",
    "            \n",
    "\n",
    "LinkedList.remove = remove"
   ]
  },
  {
   "cell_type": "code",
   "execution_count": 40,
   "id": "180f25eb",
   "metadata": {},
   "outputs": [],
   "source": [
    "# Test remove\n",
    "linked_list.remove(1)\n",
    "assert linked_list.to_list() == [2, 1, 3, 4, 3], f\"list contents: {linked_list.to_list()}\"\n",
    "linked_list.remove(3)\n",
    "assert linked_list.to_list() == [2, 1, 4, 3], f\"list contents: {linked_list.to_list()}\"\n",
    "linked_list.remove(3)\n",
    "assert linked_list.to_list() == [2, 1, 4], f\"list contents: {linked_list.to_list()}\""
   ]
  },
  {
   "cell_type": "markdown",
   "id": "75a51965",
   "metadata": {},
   "source": [
    "#### Task 5. Write definition of `pop()` function and test its functionality"
   ]
  },
  {
   "cell_type": "code",
   "execution_count": 41,
   "id": "47905bf4",
   "metadata": {},
   "outputs": [],
   "source": [
    "def pop(self):\n",
    "    \"\"\" Return the first node's value and remove it from the list. \"\"\"\n",
    "    # TODO: Write function to pop here\n",
    "    if self.head is None : \n",
    "        return\n",
    "    node = self.head\n",
    "    self.head = self.head.next\n",
    "    return node.value\n",
    "\n",
    "LinkedList.pop = pop"
   ]
  },
  {
   "cell_type": "code",
   "execution_count": 42,
   "id": "3802278d",
   "metadata": {},
   "outputs": [],
   "source": [
    "# Test pop\n",
    "value = linked_list.pop()\n",
    "assert value == 2, f\"list contents: {linked_list.to_list()}\"\n",
    "assert linked_list.head.value == 1, f\"list contents: {linked_list.to_list()}\""
   ]
  },
  {
   "cell_type": "markdown",
   "id": "fb64cab6",
   "metadata": {},
   "source": [
    "#### Task 6. Write definition of `insert()` function and test its functionality"
   ]
  },
  {
   "cell_type": "code",
   "execution_count": 43,
   "id": "b4120287",
   "metadata": {},
   "outputs": [],
   "source": [
    "def insert(self, value, pos):\n",
    "    \"\"\" Insert value at pos position in the list. If pos is larger than the\n",
    "    length of the list, append to the end of the list. \"\"\"\n",
    "        \n",
    "    # TODO: Write function to insert here    \n",
    "    if self.head is None:\n",
    "        self.head = Node(value)\n",
    "        return\n",
    "        \n",
    "    if pos == 0:\n",
    "        self.prepend(value)\n",
    "        return\n",
    "\n",
    "    index = 0\n",
    "    node = self.head\n",
    "    while node.next and index <= pos:\n",
    "        if (pos - 1) == index:\n",
    "            new_node = Node(value)\n",
    "            new_node.next = node.next\n",
    "            node.next = new_node\n",
    "            return\n",
    "\n",
    "        index += 1\n",
    "        node = node.next\n",
    "    else:\n",
    "        self.append(value)\n",
    "\n",
    "LinkedList.insert = insert\n"
   ]
  },
  {
   "cell_type": "code",
   "execution_count": 46,
   "id": "148056ce",
   "metadata": {},
   "outputs": [],
   "source": [
    "# Test insert \n",
    "linked_list.insert(5, 0)\n",
    "assert linked_list.to_list() == [5, 1, 4], f\"list contents: {linked_list.to_list()}\"\n",
    "linked_list.insert(2, 1)\n",
    "assert linked_list.to_list() == [5, 2, 1, 4], f\"list contents: {linked_list.to_list()}\"\n",
    "linked_list.insert(3, 6)\n",
    "assert linked_list.to_list() == [5, 2, 1, 4, 3], f\"list contents: {linked_list.to_list()}\""
   ]
  },
  {
   "cell_type": "markdown",
   "id": "0bcbf4fb",
   "metadata": {},
   "source": [
    "#### Task 7. Write definition of `size()` function and test its functionality"
   ]
  },
  {
   "cell_type": "code",
   "execution_count": 52,
   "id": "67b304d2",
   "metadata": {},
   "outputs": [],
   "source": [
    "def size(self):\n",
    "    \"\"\" Return the size or length of the linked list. \"\"\"\n",
    "    # TODO: Write function to get size here\n",
    "    size = 0\n",
    "    node = self.head\n",
    "    while node :\n",
    "        size += 1\n",
    "        node = node.next\n",
    "    return size\n",
    "LinkedList.size = size"
   ]
  },
  {
   "cell_type": "code",
   "execution_count": 53,
   "id": "ea3b2592",
   "metadata": {},
   "outputs": [
    {
     "name": "stdout",
     "output_type": "stream",
     "text": [
      "5\n"
     ]
    }
   ],
   "source": [
    "# Test size function\n",
    "assert linked_list.size() == 5, f\"list contents: {linked_list.to_list()}\""
   ]
  },
  {
   "cell_type": "code",
   "execution_count": null,
   "id": "9db8c3cd",
   "metadata": {},
   "outputs": [],
   "source": []
  },
  {
   "cell_type": "code",
   "execution_count": null,
   "id": "614006d8",
   "metadata": {},
   "outputs": [],
   "source": []
  },
  {
   "cell_type": "code",
   "execution_count": null,
   "id": "a6cf7e40",
   "metadata": {},
   "outputs": [],
   "source": []
  }
 ],
 "metadata": {
  "kernelspec": {
   "display_name": "Python 3 (ipykernel)",
   "language": "python",
   "name": "python3"
  },
  "language_info": {
   "codemirror_mode": {
    "name": "ipython",
    "version": 3
   },
   "file_extension": ".py",
   "mimetype": "text/x-python",
   "name": "python",
   "nbconvert_exporter": "python",
   "pygments_lexer": "ipython3",
   "version": "3.8.10"
  }
 },
 "nbformat": 4,
 "nbformat_minor": 5
}
