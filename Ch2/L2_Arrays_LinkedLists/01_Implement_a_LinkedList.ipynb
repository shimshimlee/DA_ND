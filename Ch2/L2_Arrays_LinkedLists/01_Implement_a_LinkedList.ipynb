{
 "cells": [
  {
   "cell_type": "markdown",
   "id": "c70110c7",
   "metadata": {},
   "source": [
    "# Implementing and traversing a linked list\n",
    "\n",
    "In this notebook we'll get some practice implementing a basic linked list—something like this:  \n",
    "\n",
    "<img style=\"float: left;\" src=\"assets/linked_list_head_none.png\" alt=\"Linked list with nodes 2 at the head, followed by 1, 4, 3, and 5.\" >\n"
   ]
  },
  {
   "cell_type": "markdown",
   "id": "2b074242",
   "metadata": {},
   "source": [
    "**Note** - This notebook contains a few audio walkthroughs of the code cells. <font color=\"red\">If you face difficulty in listening to the audio, try reconnecting your audio headsets, and use either Chrome or Firefox browser.</font> "
   ]
  },
  {
   "cell_type": "markdown",
   "id": "4fdbf3a7",
   "metadata": {},
   "source": [
    "## Key characteristics\n",
    "\n",
    "First, let's review the overall abstract concepts for this data structure. To get started, click the walkthrough button below."
   ]
  },
  {
   "cell_type": "code",
   "execution_count": 2,
   "id": "4efc8dee",
   "metadata": {},
   "outputs": [
    {
     "name": "stdout",
     "output_type": "stream",
     "text": [
      "2\n",
      "1\n"
     ]
    }
   ],
   "source": [
    "class Node :\n",
    "    def __init__(self, value) :\n",
    "        self.value = value\n",
    "        self.next = None\n",
    "\n",
    "head = Node(2)\n",
    "head.next = Node(1)\n",
    "\n",
    "print (head.value)\n",
    "print (head.next.value)"
   ]
  },
  {
   "cell_type": "code",
   "execution_count": 3,
   "id": "f85f8d34",
   "metadata": {},
   "outputs": [
    {
     "name": "stdout",
     "output_type": "stream",
     "text": [
      "2\n",
      "1\n"
     ]
    }
   ],
   "source": [
    "def print_linked_list(head):\n",
    "    current_node = head\n",
    "    \n",
    "    while current_node is not None:\n",
    "        print(current_node.value)\n",
    "        current_node = current_node.next\n",
    "        \n",
    "print_linked_list(head)"
   ]
  },
  {
   "cell_type": "code",
   "execution_count": 4,
   "id": "acc30bba",
   "metadata": {},
   "outputs": [],
   "source": [
    "def create_linked_list_better(input_list):\n",
    "    \n",
    "    head = None\n",
    "    tail = None\n",
    "    \n",
    "    for value in input_list:\n",
    "        \n",
    "        if head is None:\n",
    "            head = Node(value)\n",
    "            tail = head # when we only have 1 node, head and tail refer to the same node\n",
    "        else:\n",
    "            tail.next = Node(value) # attach the new node to the `next` of tail\n",
    "            tail = tail.next # update the tail\n",
    "            \n",
    "    return head"
   ]
  },
  {
   "cell_type": "code",
   "execution_count": 6,
   "id": "078b1e2c",
   "metadata": {},
   "outputs": [
    {
     "name": "stdout",
     "output_type": "stream",
     "text": [
      "1\n",
      "2\n",
      "3\n",
      "4\n",
      "5\n",
      "6\n"
     ]
    }
   ],
   "source": [
    "input_list = [1, 2, 3, 4, 5, 6]\n",
    "head = create_linked_list_better(input_list)\n",
    "print_linked_list(head)"
   ]
  },
  {
   "cell_type": "code",
   "execution_count": null,
   "id": "3b8590ab",
   "metadata": {},
   "outputs": [],
   "source": []
  }
 ],
 "metadata": {
  "kernelspec": {
   "display_name": "Python 3 (ipykernel)",
   "language": "python",
   "name": "python3"
  },
  "language_info": {
   "codemirror_mode": {
    "name": "ipython",
    "version": 3
   },
   "file_extension": ".py",
   "mimetype": "text/x-python",
   "name": "python",
   "nbconvert_exporter": "python",
   "pygments_lexer": "ipython3",
   "version": "3.8.10"
  }
 },
 "nbformat": 4,
 "nbformat_minor": 5
}
