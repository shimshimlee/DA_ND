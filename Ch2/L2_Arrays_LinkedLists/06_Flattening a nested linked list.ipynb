{
 "cells": [
  {
   "cell_type": "markdown",
   "id": "8d979cf8",
   "metadata": {},
   "source": [
    "## Flattening a nested linked list\n",
    "\n",
    "Suppose you have a linked list where the value of each node is a sorted linked list (i.e., it is a _nested_ list). Your task is to _flatten_ this nested list—that is, to combine all nested lists into a single (sorted) linked list.\n",
    "\n",
    "First, we'll need some code for generating nodes and a linked list:"
   ]
  },
  {
   "cell_type": "code",
   "execution_count": 21,
   "id": "4f0f132f",
   "metadata": {},
   "outputs": [],
   "source": [
    "# Helper code\n",
    "\n",
    "# A class behaves like a data-type, just like an int, float or any other built-in ones. \n",
    "# User defined class\n",
    "class Node:\n",
    "    def __init__(self, value): # <-- For simple LinkedList, \"value\" argument will be an int, whereas, for NestedLinkedList, \"value\" will be a LinkedList\n",
    "        self.value = value\n",
    "        self.next = None\n",
    "    \n",
    "    def __repr__(self):\n",
    "        return str(self.value)\n",
    "    \n",
    "# User defined class\n",
    "class LinkedList: \n",
    "    def __init__(self, head): # <-- Expects \"head\" to be a Node made up of an int or LinkedList\n",
    "        self.head = head\n",
    "\n",
    "    '''\n",
    "    For creating a simple LinkedList, we will pass an integer as the \"value\" argument\n",
    "    For creating a nested LinkedList, we will pass a LinkedList as the \"value\" argument\n",
    "    '''\n",
    "    def append(self, value):\n",
    "        \n",
    "        # If LinkedList is empty\n",
    "        if self.head is None:\n",
    "            self.head = Node(value)\n",
    "            return\n",
    "        \n",
    "        # Create a temporary Node object\n",
    "        node = self.head\n",
    "        \n",
    "        # Iterate till the end of the currrent LinkedList\n",
    "        while node.next is not None:\n",
    "            node = node.next\n",
    "        \n",
    "        # Append the newly creataed Node at the end of the currrent LinkedList\n",
    "        node.next = Node(value)\n",
    "\n",
    "        \n",
    "    '''We will need this function to convert a LinkedList object into a Python list of integers'''\n",
    "    def to_list(self):\n",
    "        out = []          # <-- Declare a Python list\n",
    "        node = self.head  # <-- Create a temporary Node object\n",
    "        \n",
    "        while node:       # <-- Iterate untill we have nodes available\n",
    "            out.append(int(str(node.value))) # <-- node.value is actually of type Node, therefore convert it into int before appending to the Python list\n",
    "            node = node.next\n",
    "        \n",
    "        return out"
   ]
  },
  {
   "cell_type": "code",
   "execution_count": 22,
   "id": "4de1a6dd",
   "metadata": {},
   "outputs": [],
   "source": [
    "def merge(list1, list2):\n",
    "    # TODO: Implement this function so that it merges the two linked lists in a single, sorted linked list.\n",
    "    '''\n",
    "    The arguments list1, list2 must be of type LinkedList.\n",
    "    The merge() function must return an instance of LinkedList.\n",
    "    '''\n",
    "    merged = LinkedList(None)\n",
    "    if list1 is None:\n",
    "        return list2\n",
    "    if list2 is None:\n",
    "        return list1\n",
    "    list1_elt = list1.head\n",
    "    list2_elt = list2.head\n",
    "    while list1_elt is not None or list2_elt is not None:\n",
    "        if list1_elt is None:\n",
    "            merged.append(list2_elt)\n",
    "            list2_elt = list2_elt.next\n",
    "        elif list2_elt is None:\n",
    "            merged.append(list1_elt)\n",
    "            list1_elt = list1_elt.next\n",
    "        elif list1_elt.value <= list2_elt.value:\n",
    "            merged.append(list1_elt)\n",
    "            list1_elt = list1_elt.next\n",
    "        else:\n",
    "            merged.append(list2_elt)\n",
    "            list2_elt = list2_elt.next\n",
    "    return merged\n",
    "\n",
    "\n",
    "''' In a NESTED LinkedList object, each node will be a simple LinkedList in itself'''\n",
    "''' In a NESTED LinkedList object, each node will be a simple LinkedList in itself'''\n",
    "class NestedLinkedList(LinkedList):\n",
    "    def flatten(self):\n",
    "        return self._flatten(self.head) # <-- self.head is a node for NestedLinkedList\n",
    "\n",
    "    '''  A recursive function ''' \n",
    "    def _flatten(self, node):\n",
    "        \n",
    "        # A termination condition\n",
    "        if node.next is None:\n",
    "            return merge(node.value, None) # <-- First argument is a simple LinkedList\n",
    "        \n",
    "        # _flatten() is calling itself untill a termination condition is achieved\n",
    "        return merge(node.value, self._flatten(node.next)) # <-- Both arguments are a simple LinkedList each"
   ]
  },
  {
   "cell_type": "code",
   "execution_count": 31,
   "id": "cc90afac",
   "metadata": {},
   "outputs": [
    {
     "name": "stdout",
     "output_type": "stream",
     "text": [
      "[1, 3, 5, 2]\n",
      "[2, 4]\n"
     ]
    }
   ],
   "source": [
    "# First Test scenario\n",
    "\n",
    "\n",
    "''' Create a simple LinkedList'''\n",
    "linked_list = LinkedList(Node(1)) # <-- Notice that we are passing a Node made up of an integer\n",
    "linked_list.append(3) # <-- Notice that we are passing a numerical value as an argument in the append() function here \n",
    "linked_list.append(5)\n",
    "linked_list.append(2)\n",
    "\n",
    "print(linked_list.to_list())\n",
    "\n",
    "''' Create another simple LinkedList'''\n",
    "second_linked_list = LinkedList(Node(2))\n",
    "second_linked_list.append(4)\n",
    "\n",
    "\n",
    "''' Create a NESTED LinkedList, where each node will be a simple LinkedList in itself'''\n",
    "nested_linked_list = NestedLinkedList(Node(linked_list)) # <-- Notice that we are passing a Node made up of a simple LinkedList object\n",
    "nested_linked_list.append(second_linked_list) # <-- Notice that we are passing a LinkedList object in the append() function here\n",
    "\n",
    "print(nested_linked_list.head.next.value.to_list())\n"
   ]
  },
  {
   "cell_type": "code",
   "execution_count": 32,
   "id": "3dd41754",
   "metadata": {},
   "outputs": [
    {
     "name": "stdout",
     "output_type": "stream",
     "text": [
      "[1, 2, 3, 4, 5, 2]\n"
     ]
    },
    {
     "ename": "AssertionError",
     "evalue": "list contents: [1, 2, 3, 4, 5, 2]",
     "output_type": "error",
     "traceback": [
      "\u001b[0;31m---------------------------------------------------------------------------\u001b[0m",
      "\u001b[0;31mAssertionError\u001b[0m                            Traceback (most recent call last)",
      "Cell \u001b[0;32mIn[32], line 6\u001b[0m\n\u001b[1;32m      3\u001b[0m expected_list \u001b[38;5;241m=\u001b[39m [\u001b[38;5;241m1\u001b[39m,\u001b[38;5;241m2\u001b[39m,\u001b[38;5;241m3\u001b[39m,\u001b[38;5;241m4\u001b[39m,\u001b[38;5;241m5\u001b[39m] \u001b[38;5;66;03m# <-- Python list\u001b[39;00m\n\u001b[1;32m      5\u001b[0m \u001b[38;5;66;03m# Convert the \"solution\" into a Python list and compare with another Python list\u001b[39;00m\n\u001b[0;32m----> 6\u001b[0m \u001b[38;5;28;01massert\u001b[39;00m solution\u001b[38;5;241m.\u001b[39mto_list() \u001b[38;5;241m==\u001b[39m expected_list, \u001b[38;5;124mf\u001b[39m\u001b[38;5;124m\"\u001b[39m\u001b[38;5;124mlist contents: \u001b[39m\u001b[38;5;132;01m{\u001b[39;00msolution\u001b[38;5;241m.\u001b[39mto_list()\u001b[38;5;132;01m}\u001b[39;00m\u001b[38;5;124m\"\u001b[39m\n",
      "\u001b[0;31mAssertionError\u001b[0m: list contents: [1, 2, 3, 4, 5, 2]"
     ]
    }
   ],
   "source": [
    "solution = nested_linked_list.flatten() # <-- returns A LinkedList object\n",
    "print(solution.to_list())\n",
    "expected_list = [1,2,3,4,5] # <-- Python list\n",
    "\n",
    "# Convert the \"solution\" into a Python list and compare with another Python list\n",
    "assert solution.to_list() == expected_list, f\"list contents: {solution.to_list()}\""
   ]
  },
  {
   "cell_type": "markdown",
   "id": "96b0d632",
   "metadata": {},
   "source": [
    "### Computational Complexity\n",
    "Lets start with the computational complexity of `merge`.  Merge takes in two lists.  Let's say the lengths of the lists are $N_{1}$ and $N_{2}$. Because we assume the inputs are sorted, `merge` is very efficient. It looks at the first element of each list and adds the smaller one to the returned list.  Every time through the loop we are appending one element to the list, so it will take $N_{1} + N_{2}$ iterations until we have the whole list.\n",
    "\n",
    "The complexity of `flatten` is a little more complicated to calculate.  Suppose our `NestedLinkedList` has $N$ linked lists and each list's length is represented by $M_{1}, M_{2}, ..., M_{N}$.\n",
    "\n",
    "We can represent this recursion as:\n",
    "\n",
    "$merge(M_{1}, merge(M_{2}, merge(..., merge(M_{N-1}, merge(M_{N}, None)))))$\n",
    "\n",
    "Let's start from the inside.  The inner most merge returns the $nth$ linked list.  The next merge does $M_{N-1} + M_{N}$ comparisons.  The next merge does $M_{N-2} + M_{N-1} + M_{N}$ comparisons.\n",
    "\n",
    "Eventually we will do $N$ comparisons on all of the $M_{N}$ elements. We will do $N-1$ comparisons on $M_{N-1}$ elements.\n",
    "\n",
    "This can be generalized as:\n",
    "\n",
    "$$\n",
    "\\sum_n^N n*M_{n}\n",
    "$$"
   ]
  },
  {
   "cell_type": "code",
   "execution_count": null,
   "id": "d8124e7f",
   "metadata": {},
   "outputs": [],
   "source": []
  },
  {
   "cell_type": "code",
   "execution_count": null,
   "id": "6570bb98",
   "metadata": {},
   "outputs": [],
   "source": []
  },
  {
   "cell_type": "code",
   "execution_count": null,
   "id": "c0efb320",
   "metadata": {},
   "outputs": [],
   "source": []
  }
 ],
 "metadata": {
  "kernelspec": {
   "display_name": "Python 3 (ipykernel)",
   "language": "python",
   "name": "python3"
  },
  "language_info": {
   "codemirror_mode": {
    "name": "ipython",
    "version": 3
   },
   "file_extension": ".py",
   "mimetype": "text/x-python",
   "name": "python",
   "nbconvert_exporter": "python",
   "pygments_lexer": "ipython3",
   "version": "3.8.10"
  }
 },
 "nbformat": 4,
 "nbformat_minor": 5
}
