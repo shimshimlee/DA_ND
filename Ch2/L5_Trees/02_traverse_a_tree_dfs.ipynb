{
 "cells": [
  {
   "cell_type": "markdown",
   "id": "94e5318d",
   "metadata": {},
   "source": [
    "## Traverse a tree (depth first search)\n",
    "\n",
    "Traversing a tree means \"visiting\" all the nodes in the tree once.  Unlike an array or linked list, there's more than one way to walk through a tree, starting from the root node.  \n",
    "\n",
    "Traversing a tree is helpful for printing out all the values stored in the tree, as well as searching for a value in a tree, inserting into or deleting values from the tree.  There's depth first search and breadth first search.\n",
    "\n",
    "Depth first search has 3 types: pre-order, in-order, and post-order.  \n",
    "\n",
    "Let's walk through pre-order traversal by hand first, and then try it out in code.\n",
    "\n",
    "## Creating a sample tree\n",
    "\n",
    "We'll create a tree that looks like the following:"
   ]
  },
  {
   "cell_type": "markdown",
   "id": "5dc5a26e",
   "metadata": {},
   "source": [
    "![tree image](./tree_01.png \"Tree\")"
   ]
  },
  {
   "cell_type": "code",
   "execution_count": 1,
   "id": "66c26c66",
   "metadata": {},
   "outputs": [],
   "source": [
    "# this code makes the tree that we'll traverse\n",
    "\n",
    "class Node(object):\n",
    "        \n",
    "    def __init__(self,value = None):\n",
    "        self.value = value\n",
    "        self.left = None\n",
    "        self.right = None\n",
    "        \n",
    "    def set_value(self,value):\n",
    "        self.value = value\n",
    "        \n",
    "    def get_value(self):\n",
    "        return self.value\n",
    "        \n",
    "    def set_left_child(self,left):\n",
    "        self.left = left\n",
    "        \n",
    "    def set_right_child(self, right):\n",
    "        self.right = right\n",
    "        \n",
    "    def get_left_child(self):\n",
    "        return self.left\n",
    "    \n",
    "    def get_right_child(self):\n",
    "        return self.right\n",
    "\n",
    "    def has_left_child(self):\n",
    "        return self.left != None\n",
    "    \n",
    "    def has_right_child(self):\n",
    "        return self.right != None\n",
    "    \n",
    "    # define __repr_ to decide what a print statement displays for a Node object\n",
    "    def __repr__(self):\n",
    "        return f\"Node({self.get_value()})\"\n",
    "    \n",
    "    def __str__(self):\n",
    "        return f\"Node({self.get_value()})\"\n",
    "    \n",
    "    \n",
    "class Tree():\n",
    "    def __init__(self, value=None):\n",
    "        self.root = Node(value)\n",
    "        \n",
    "    def get_root(self):\n",
    "        return self.root"
   ]
  },
  {
   "cell_type": "code",
   "execution_count": 2,
   "id": "1cc2a666",
   "metadata": {},
   "outputs": [],
   "source": [
    "# create a tree and add some nodes\n",
    "tree = Tree(\"apple\")\n",
    "tree.get_root().set_left_child(Node(\"banana\"))\n",
    "tree.get_root().set_right_child(Node(\"cherry\"))\n",
    "tree.get_root().get_left_child().set_left_child(Node(\"dates\"))"
   ]
  },
  {
   "cell_type": "markdown",
   "id": "a36e5b60",
   "metadata": {},
   "source": [
    "## task 01: pre-order traversal with recursion\n",
    "\n",
    "Use recursion and perform pre_order traversal."
   ]
  },
  {
   "cell_type": "code",
   "execution_count": 6,
   "id": "3be44f93",
   "metadata": {},
   "outputs": [],
   "source": [
    "def pre_order(tree) :\n",
    "    visit_order = list()\n",
    "    \n",
    "    def traverse(node) :\n",
    "        if node :\n",
    "            #visit node\n",
    "            visit_order.append(node.get_value())\n",
    "            \n",
    "            # traverse left subtree\n",
    "            traverse(node.get_left_child())\n",
    "            \n",
    "            # traverse right sub\n",
    "            traverse(node.get_right_child())\n",
    "    \n",
    "    traverse(tree.get_root())\n",
    "    \n",
    "    return visit_order "
   ]
  },
  {
   "cell_type": "code",
   "execution_count": 10,
   "id": "d84a1590",
   "metadata": {},
   "outputs": [
    {
     "name": "stdout",
     "output_type": "stream",
     "text": [
      "['apple', 'banana', 'dates', 'cherry']\n"
     ]
    }
   ],
   "source": [
    "print(f\"{pre_order(tree)}\")\n"
   ]
  },
  {
   "cell_type": "markdown",
   "id": "8d2ab8cf",
   "metadata": {},
   "source": [
    "## Task: do in-order traversal\n",
    "\n",
    "We want to traverse the left subtree, then visit the node, and then traverse the right subtree.\n",
    "\n",
    "**hint**: it's very similar in structure to the pre-order traversal."
   ]
  },
  {
   "cell_type": "code",
   "execution_count": 11,
   "id": "c925a93c",
   "metadata": {},
   "outputs": [],
   "source": [
    "def in_order(tree) :\n",
    "    visit_order = list()\n",
    "    \n",
    "    def traverse(node) :\n",
    "        if node :\n",
    "            #traverse left subtree\n",
    "            traverse(node.get_left_child())\n",
    "\n",
    "            #visit node\n",
    "            visit_order.append(node.get_value())\n",
    "            \n",
    "            #traverse right subtree\n",
    "            traverse(node.get_right_child())\n",
    "    \n",
    "    traverse(tree.get_root())\n",
    "    \n",
    "    return visit_order"
   ]
  },
  {
   "cell_type": "code",
   "execution_count": 16,
   "id": "b04ffeed",
   "metadata": {},
   "outputs": [
    {
     "name": "stdout",
     "output_type": "stream",
     "text": [
      "['dates', 'banana', 'apple', 'cherry']\n"
     ]
    }
   ],
   "source": [
    "print(f\"{in_order(tree)}\")"
   ]
  },
  {
   "cell_type": "markdown",
   "id": "6795af3a",
   "metadata": {},
   "source": [
    "## Task: post-order traversal\n",
    "\n",
    "Traverse left subtree, then right subtree, and then visit the node."
   ]
  },
  {
   "cell_type": "code",
   "execution_count": 17,
   "id": "c8e3503a",
   "metadata": {},
   "outputs": [],
   "source": [
    "def post_order(tree) : \n",
    "    \n",
    "    visit_order = list()\n",
    "    \n",
    "    def traverse(node) : \n",
    "        if node :\n",
    "            #traverse left subtree\n",
    "            traverse(node.get_left_child())\n",
    "\n",
    "            #traverse right subtree\n",
    "            traverse(node.get_right_child())\n",
    "            \n",
    "            #visit node\n",
    "            visit_order.append(node.get_value())\n",
    "            \n",
    "    \n",
    "    traverse(tree.get_root())\n",
    "    \n",
    "    return visit_order"
   ]
  },
  {
   "cell_type": "code",
   "execution_count": 18,
   "id": "37dbdfec",
   "metadata": {},
   "outputs": [
    {
     "name": "stdout",
     "output_type": "stream",
     "text": [
      "['dates', 'banana', 'cherry', 'apple']\n"
     ]
    }
   ],
   "source": [
    "print(f\"{post_order(tree)}\")"
   ]
  },
  {
   "cell_type": "code",
   "execution_count": null,
   "id": "3ade6fa0",
   "metadata": {},
   "outputs": [],
   "source": []
  }
 ],
 "metadata": {
  "kernelspec": {
   "display_name": "Python 3 (ipykernel)",
   "language": "python",
   "name": "python3"
  },
  "language_info": {
   "codemirror_mode": {
    "name": "ipython",
    "version": 3
   },
   "file_extension": ".py",
   "mimetype": "text/x-python",
   "name": "python",
   "nbconvert_exporter": "python",
   "pygments_lexer": "ipython3",
   "version": "3.8.10"
  }
 },
 "nbformat": 4,
 "nbformat_minor": 5
}
