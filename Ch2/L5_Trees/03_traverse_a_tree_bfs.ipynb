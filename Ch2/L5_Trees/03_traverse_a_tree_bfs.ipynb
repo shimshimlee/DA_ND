{
 "cells": [
  {
   "cell_type": "markdown",
   "id": "62200c10",
   "metadata": {},
   "source": [
    "## Traverse a tree (breadth first search)\n",
    "\n",
    "We'll now practice implementing breadth first search (BFS).  You'll see breadth first search again when we learn about graph data structures, so BFS is very useful to know."
   ]
  },
  {
   "cell_type": "markdown",
   "id": "99d4ace4",
   "metadata": {},
   "source": [
    "## Creating a sample tree\n",
    "\n",
    "We'll create a tree that looks like the following:\n",
    "![tree image](./tree_01.png \"Tree\")\n",
    "\n",
    "## Breadth first search\n",
    "Breadth first traversal of the tree would visit the nodes in this order:  \n",
    "\n",
    "apple, banana, cherry, dates\n"
   ]
  },
  {
   "cell_type": "code",
   "execution_count": 2,
   "id": "9c08882b",
   "metadata": {},
   "outputs": [],
   "source": [
    "# this code makes the tree that we'll traverse\n",
    "\n",
    "class Node(object):\n",
    "        \n",
    "    def __init__(self,value = None):\n",
    "        self.value = value\n",
    "        self.left = None\n",
    "        self.right = None\n",
    "    \n",
    "    # set value of the node\n",
    "    def set_value(self,value):\n",
    "        self.value = value\n",
    "    \n",
    "    # get value of the node\n",
    "    def get_value(self):\n",
    "        return self.value\n",
    "    \n",
    "    # set a node for the left child\n",
    "    def set_left_child(self,left):\n",
    "        self.left = left\n",
    "    \n",
    "    # set a node for the right child\n",
    "    def set_right_child(self, right):\n",
    "        self.right = right\n",
    "        \n",
    "    # get the node of left child\n",
    "    def get_left_child(self):\n",
    "        return self.left\n",
    "    \n",
    "    # get the node of right child\n",
    "    def get_right_child(self):\n",
    "        return self.right\n",
    "\n",
    "    # check if node has left child -> return boolean\n",
    "    def has_left_child(self):\n",
    "        return self.left != None\n",
    "    \n",
    "    # check if node has right child -> return boolean\n",
    "    def has_right_child(self):\n",
    "        return self.right != None\n",
    "    \n",
    "    # define __repr_ to decide what a print statement displays for a Node object\n",
    "    def __repr__(self):\n",
    "        return f\"Node({self.get_value()})\"\n",
    "    \n",
    "    def __str__(self):\n",
    "        return f\"Node({self.get_value()})\"\n",
    "    \n",
    "    \n",
    "class Tree():\n",
    "    def __init__(self, value=None):\n",
    "        self.root = Node(value)\n",
    "        \n",
    "    def get_root(self):\n",
    "        return self.root\n",
    "\n",
    "tree = Tree(\"apple\")\n",
    "tree.get_root().set_left_child(Node(\"banana\"))\n",
    "tree.get_root().set_right_child(Node(\"cherry\"))\n",
    "tree.get_root().get_left_child().set_left_child(Node(\"dates\"))"
   ]
  },
  {
   "cell_type": "markdown",
   "id": "83b06791",
   "metadata": {},
   "source": [
    "## Queue\n",
    "\n",
    "Notice that we're waiting until we visit \"cherry\" before visiting \"dates\".  It's like they're waiting in line.  We can use a queue to keep track of the order. \n",
    "\n",
    "Python's `collections` module has a specialized `deque` datatype (ref: [deque datatype documentation](https://docs.python.org/3/library/collections.html#collections.deque)). We can append a new element to the right of the list with `append` method and to the left of the list with `appendleft`. To remove and return the right element of the list, we can use `pop` method."
   ]
  },
  {
   "cell_type": "code",
   "execution_count": 4,
   "id": "536773b0",
   "metadata": {},
   "outputs": [
    {
     "name": "stdout",
     "output_type": "stream",
     "text": [
      "deque(['banana', 'apple'])\n",
      "deque(['banana'])\n"
     ]
    },
    {
     "data": {
      "text/plain": [
       "1"
      ]
     },
     "execution_count": 4,
     "metadata": {},
     "output_type": "execute_result"
    }
   ],
   "source": [
    "# import deque datatype from collections module\n",
    "from collections import deque\n",
    "# instantiate a deque object\n",
    "q = deque()\n",
    "# add 2 elements to the left of the deque\n",
    "q.appendleft(\"apple\")\n",
    "q.appendleft(\"banana\")\n",
    "print(q)\n",
    "q.pop()\n",
    "print(q)\n",
    "len(q)\n"
   ]
  },
  {
   "cell_type": "code",
   "execution_count": 5,
   "id": "8fa721d4",
   "metadata": {},
   "outputs": [],
   "source": [
    "from collections import deque\n",
    "class Queue():\n",
    "    def __init__(self):\n",
    "        self.q = deque()\n",
    "        \n",
    "    def enq(self,value):\n",
    "        self.q.appendleft(value)\n",
    "        \n",
    "    def deq(self):\n",
    "        if len(self.q) > 0:\n",
    "            return self.q.pop()\n",
    "        else:\n",
    "            return None\n",
    "    \n",
    "    def __len__(self):\n",
    "        return len(self.q)\n",
    "    \n",
    "    def __repr__(self):\n",
    "        if len(self.q) > 0:\n",
    "            s = \"<enqueue here>\\n_________________\\n\" \n",
    "            s += \"\\n_________________\\n\".join([str(item) for item in self.q])\n",
    "            s += \"\\n_________________\\n<dequeue here>\"\n",
    "            return s\n",
    "        else:\n",
    "            return \"<queue is empty>\""
   ]
  },
  {
   "cell_type": "code",
   "execution_count": 6,
   "id": "c48c7b64",
   "metadata": {},
   "outputs": [
    {
     "name": "stdout",
     "output_type": "stream",
     "text": [
      "<enqueue here>\n",
      "_________________\n",
      "cherry\n",
      "_________________\n",
      "banana\n",
      "_________________\n",
      "apple\n",
      "_________________\n",
      "<dequeue here>\n",
      "apple\n",
      "<enqueue here>\n",
      "_________________\n",
      "cherry\n",
      "_________________\n",
      "banana\n",
      "_________________\n",
      "<dequeue here>\n"
     ]
    }
   ],
   "source": [
    "q = Queue()\n",
    "q.enq(\"apple\")\n",
    "q.enq(\"banana\")\n",
    "q.enq(\"cherry\")\n",
    "print(q)\n",
    "print(q.deq())\n",
    "print(q)"
   ]
  },
  {
   "cell_type": "markdown",
   "id": "a84ee6cf",
   "metadata": {},
   "source": [
    "## Task: write the breadth first search algorithm"
   ]
  },
  {
   "cell_type": "code",
   "execution_count": 7,
   "id": "6bd39301",
   "metadata": {},
   "outputs": [],
   "source": [
    "def bfs(tree):\n",
    "    q = Queue()\n",
    "    visit_order = list()\n",
    "    node = tree.get_root()\n",
    "    q.enq(node)\n",
    "    while(len(q) > 0) :\n",
    "        node = q.deq()\n",
    "        visit_order.append(node)\n",
    "        if node.has_left_child():\n",
    "            q.enq(node.get_left_child())\n",
    "        if node.has_right_child():\n",
    "            q.enq(node.get_right_child())\n",
    "    \n",
    "    return visit_order"
   ]
  },
  {
   "cell_type": "code",
   "execution_count": 8,
   "id": "79e4bdf5",
   "metadata": {},
   "outputs": [
    {
     "data": {
      "text/plain": [
       "[Node(apple), Node(banana), Node(cherry), Node(dates)]"
      ]
     },
     "execution_count": 8,
     "metadata": {},
     "output_type": "execute_result"
    }
   ],
   "source": [
    "bfs(tree)"
   ]
  },
  {
   "cell_type": "code",
   "execution_count": null,
   "id": "6ddfd7ee",
   "metadata": {},
   "outputs": [],
   "source": []
  }
 ],
 "metadata": {
  "kernelspec": {
   "display_name": "Python 3 (ipykernel)",
   "language": "python",
   "name": "python3"
  },
  "language_info": {
   "codemirror_mode": {
    "name": "ipython",
    "version": 3
   },
   "file_extension": ".py",
   "mimetype": "text/x-python",
   "name": "python",
   "nbconvert_exporter": "python",
   "pygments_lexer": "ipython3",
   "version": "3.8.10"
  }
 },
 "nbformat": 4,
 "nbformat_minor": 5
}
