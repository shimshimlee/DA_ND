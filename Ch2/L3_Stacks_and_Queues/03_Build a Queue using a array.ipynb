{
 "cells": [
  {
   "cell_type": "code",
   "execution_count": 1,
   "id": "0960cffb",
   "metadata": {},
   "outputs": [],
   "source": [
    "class Queue:\n",
    "\n",
    "    def __init__(self, initial_size=10):\n",
    "        self.arr = [0 for _ in range(initial_size)]\n",
    "        self.next_index = 0\n",
    "        self.front_index = -1\n",
    "        self.queue_size = 0\n",
    "\n",
    "    def enqueue(self, value):\n",
    "        # if queue is already full --> increase capacity\n",
    "        if self.queue_size == len(self.arr):\n",
    "            self._handle_queue_capacity_full()\n",
    "\n",
    "        # enqueue new element\n",
    "        self.arr[self.next_index] = value\n",
    "        self.queue_size += 1\n",
    "        self.next_index = (self.next_index + 1) % len(self.arr)\n",
    "        if self.front_index == -1:\n",
    "            self.front_index = 0\n",
    "\n",
    "    def dequeue(self):\n",
    "        # check if queue is empty\n",
    "        if self.is_empty():\n",
    "            self.front_index = -1   # resetting pointers\n",
    "            self.next_index = 0\n",
    "            return None\n",
    "\n",
    "        # dequeue front element\n",
    "        value = self.arr[self.front_index]\n",
    "        self.front_index = (self.front_index + 1) % len(self.arr)\n",
    "        self.queue_size -= 1\n",
    "        return value\n",
    "\n",
    "    def size(self):\n",
    "        return self.queue_size\n",
    "\n",
    "    def is_empty(self):\n",
    "        return self.size() == 0\n",
    "    \n",
    "    def front(self):\n",
    "        # check if queue is empty\n",
    "        if self.is_empty():\n",
    "            return None\n",
    "        return self.arr[self.front_index]\n",
    "\n",
    "    def _handle_queue_capacity_full(self):\n",
    "        old_arr = self.arr\n",
    "        self.arr = [0 for _ in range(2 * len(old_arr))]\n",
    "\n",
    "        index = 0\n",
    "\n",
    "        # copy all elements from front of queue (front-index) until end\n",
    "        for i in range(self.front_index, len(old_arr)):\n",
    "            self.arr[index] = old_arr[i]\n",
    "            index += 1\n",
    "\n",
    "        # case: when front-index is ahead of next index\n",
    "        for i in range(0, self.front_index):\n",
    "            self.arr[index] = old_arr[i]\n",
    "            index += 1\n",
    "\n",
    "        # reset pointers\n",
    "        self.front_index = 0\n",
    "        self.next_index = index"
   ]
  },
  {
   "cell_type": "code",
   "execution_count": 2,
   "id": "f753fd96",
   "metadata": {},
   "outputs": [
    {
     "name": "stdout",
     "output_type": "stream",
     "text": [
      "Pass\n",
      "Pass\n",
      "Pass\n",
      "Pass\n",
      "Pass\n",
      "Pass\n"
     ]
    }
   ],
   "source": [
    "# Setup\n",
    "q = Queue()\n",
    "q.enqueue(1)\n",
    "q.enqueue(2)\n",
    "q.enqueue(3)\n",
    "\n",
    "# Test size\n",
    "print (\"Pass\" if (q.size() == 3) else \"Fail\")\n",
    "\n",
    "# Test dequeue\n",
    "print (\"Pass\" if (q.dequeue() == 1) else \"Fail\")\n",
    "\n",
    "# Test enqueue\n",
    "q.enqueue(4)\n",
    "print (\"Pass\" if (q.dequeue() == 2) else \"Fail\")\n",
    "print (\"Pass\" if (q.dequeue() == 3) else \"Fail\")\n",
    "print (\"Pass\" if (q.dequeue() == 4) else \"Fail\")\n",
    "q.enqueue(5)\n",
    "print (\"Pass\" if (q.size() == 1) else \"Fail\")"
   ]
  },
  {
   "cell_type": "code",
   "execution_count": null,
   "id": "8a2a0b7f",
   "metadata": {},
   "outputs": [],
   "source": []
  }
 ],
 "metadata": {
  "kernelspec": {
   "display_name": "Python 3 (ipykernel)",
   "language": "python",
   "name": "python3"
  },
  "language_info": {
   "codemirror_mode": {
    "name": "ipython",
    "version": 3
   },
   "file_extension": ".py",
   "mimetype": "text/x-python",
   "name": "python",
   "nbconvert_exporter": "python",
   "pygments_lexer": "ipython3",
   "version": "3.8.10"
  }
 },
 "nbformat": 4,
 "nbformat_minor": 5
}
