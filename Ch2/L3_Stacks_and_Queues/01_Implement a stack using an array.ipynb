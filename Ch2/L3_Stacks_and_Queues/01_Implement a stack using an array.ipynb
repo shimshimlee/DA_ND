{
 "cells": [
  {
   "cell_type": "markdown",
   "id": "c3c8e0d6",
   "metadata": {},
   "source": [
    "## Functionality\n",
    "Our goal will be to implement a `Stack` class that has the following behaviors:\n",
    "\n",
    "1. `push` - adds an item to the top of the stack\n",
    "2. `pop` - removes an item from the top of the stack (and returns the value of that item)\n",
    "3. `size` - returns the size of the stack\n",
    "4. `top` - returns the value of the item at the top of stack (without removing that item)\n",
    "5. `is_empty` - returns `True` if the stack is empty and `False` otherwise"
   ]
  },
  {
   "cell_type": "code",
   "execution_count": 1,
   "id": "5c822169",
   "metadata": {},
   "outputs": [
    {
     "name": "stdout",
     "output_type": "stream",
     "text": [
      "[0, 0, 0, 0, 0, 0, 0, 0, 0, 0]\n"
     ]
    }
   ],
   "source": [
    "class Stack:\n",
    "    \n",
    "    def __init__(self, initial_size = 10):\n",
    "        self.arr = [0 for _ in range(initial_size)]\n",
    "        self.next_index = 0\n",
    "        self.num_elements = 0\n",
    "    \n",
    "    def push(self, data):\n",
    "        self.arr[self.next_index] = data\n",
    "        self.next_index += 1\n",
    "        self.num_elements += 1\n",
    "        \n",
    "\n",
    "foo = Stack()\n",
    "print(foo.arr)\n"
   ]
  },
  {
   "cell_type": "code",
   "execution_count": null,
   "id": "48a705c4",
   "metadata": {},
   "outputs": [],
   "source": []
  }
 ],
 "metadata": {
  "kernelspec": {
   "display_name": "Python 3 (ipykernel)",
   "language": "python",
   "name": "python3"
  },
  "language_info": {
   "codemirror_mode": {
    "name": "ipython",
    "version": 3
   },
   "file_extension": ".py",
   "mimetype": "text/x-python",
   "name": "python",
   "nbconvert_exporter": "python",
   "pygments_lexer": "ipython3",
   "version": "3.8.10"
  }
 },
 "nbformat": 4,
 "nbformat_minor": 5
}
