{
 "cells": [
  {
   "cell_type": "markdown",
   "id": "c902978a",
   "metadata": {},
   "source": [
    "## Problem Statement\n",
    "\n",
    "Define a procedure, `deep_reverse`, that takes as input a list, and returns a new list that is the deep reverse of the input list.  \n",
    "This means it reverses all the elements in the list, and if any of those elements are lists themselves, reverses all the elements in the inner list, all the way down. \n",
    "\n",
    ">Note: The procedure must not change the input list itself.\n",
    "\n",
    "**Example**<br>\n",
    "Input: `[1, 2, [3, 4, 5], 4, 5]`<br>\n",
    "Output: `[5, 4, [5, 4, 3], 2, 1]`<br>\n",
    "\n",
    "**Hint**<br>\n",
    "1. Begin with a blank final list to be returned.\n",
    "2. Traverse the given list in the reverse order.\n",
    " * If an item in the list is a list itself, call the same function.\n",
    " * Otheriwse, append the item to the final list.\n"
   ]
  },
  {
   "cell_type": "code",
   "execution_count": 1,
   "id": "fb3b22ab",
   "metadata": {},
   "outputs": [
    {
     "name": "stdout",
     "output_type": "stream",
     "text": [
      "[1, 3, 5, 7, 9]\n",
      "[3]\n",
      "[3, 5, 7, 9]\n",
      "[3, 7]\n",
      "[1, 3, 5, 7]\n",
      "[1, 3, 5, 7]\n",
      "[9, 7, 5, 3, 1]\n"
     ]
    }
   ],
   "source": [
    "    # For a given list, sample syntax are - myList[1:10:2], myList[:-1:1], myList[::-1]\n",
    "    # The first argument is the starting index of the slice (inclusive),\n",
    "    # second argument is the ending index of the slice (exclusive),\n",
    "    # third argument is the increment/decrement step size.\n",
    "    # If we do not specify an argument, it means to consider all elements from that end of the list. \n",
    "A = list(range(1,11,2))\n",
    "print(A[:])\n",
    "print(A[1:2])\n",
    "print(A[1:10])\n",
    "print(A[1:10:2])\n",
    "print(A[:-1])\n",
    "print(A[:-1:1])\n",
    "print(A[::-1])"
   ]
  },
  {
   "cell_type": "code",
   "execution_count": 11,
   "id": "72631bdf",
   "metadata": {},
   "outputs": [],
   "source": [
    "def deep_reverse(arr):\n",
    "    \n",
    "    # Terminate / Base condition\n",
    "    if len(arr) < 1 :\n",
    "        return arr\n",
    "    \n",
    "    reversed_items = [] # final list to be returned\n",
    "    \n",
    "    for item in arr[::-1]:\n",
    "        \n",
    "        # If this item is a list itself, invoke deep_reverse to reverse the items recursively.\n",
    "        if type(item) is list:\n",
    "            item = deep_reverse(item)\n",
    "        \n",
    "        # append the item to the final list\n",
    "        reversed_items.append(item)\n",
    "\n",
    "    return reversed_items\n",
    "    "
   ]
  },
  {
   "cell_type": "code",
   "execution_count": 12,
   "id": "f473ce82",
   "metadata": {},
   "outputs": [],
   "source": [
    "def test_function(test_case):\n",
    "    arr = test_case[0]\n",
    "    solution = test_case[1]\n",
    "    \n",
    "    output = deep_reverse(arr)\n",
    "    if output == solution:\n",
    "        print(\"Pass\")\n",
    "    else:\n",
    "        print(\"False\")"
   ]
  },
  {
   "cell_type": "code",
   "execution_count": 13,
   "id": "e628bc4c",
   "metadata": {},
   "outputs": [
    {
     "name": "stdout",
     "output_type": "stream",
     "text": [
      "Pass\n"
     ]
    }
   ],
   "source": [
    "arr = [1, 2, 3, 4, 5]\n",
    "solution = [5, 4, 3, 2, 1]\n",
    "test_case = [arr, solution]\n",
    "test_function(test_case)"
   ]
  },
  {
   "cell_type": "code",
   "execution_count": null,
   "id": "9ff195d8",
   "metadata": {},
   "outputs": [],
   "source": []
  },
  {
   "cell_type": "code",
   "execution_count": null,
   "id": "eb700882",
   "metadata": {},
   "outputs": [],
   "source": []
  }
 ],
 "metadata": {
  "kernelspec": {
   "display_name": "Python 3 (ipykernel)",
   "language": "python",
   "name": "python3"
  },
  "language_info": {
   "codemirror_mode": {
    "name": "ipython",
    "version": 3
   },
   "file_extension": ".py",
   "mimetype": "text/x-python",
   "name": "python",
   "nbconvert_exporter": "python",
   "pygments_lexer": "ipython3",
   "version": "3.8.10"
  }
 },
 "nbformat": 4,
 "nbformat_minor": 5
}
