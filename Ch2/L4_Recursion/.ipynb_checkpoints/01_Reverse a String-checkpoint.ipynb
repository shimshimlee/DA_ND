{
 "cells": [
  {
   "cell_type": "code",
   "execution_count": 1,
   "id": "01ab46d5",
   "metadata": {},
   "outputs": [],
   "source": [
    "# Solution\n",
    "\"\"\"\n",
    "RECURSIVE FUNCTION\n",
    "Args: input(str): string to be reversed\n",
    "Returns: a string that us reversed of input\n",
    "\"\"\"\n",
    "def reverse_string(input):\n",
    "    \n",
    "    # (Recursion) Termination condition / Base condition\n",
    "    if len(input) == 0:\n",
    "        return \"\"\n",
    "\n",
    "    else:\n",
    "        first_char = input[0]\n",
    "        \n",
    "        '''\n",
    "        The `slice()` function can accept upto the following three arguments.\n",
    "        - start: [OPTIONAL] starting index. Default value is 0.\n",
    "        - stop: ending index (exclusive)\n",
    "        - step_size: [OPTIONAL] the increment size. Default value is 1.\n",
    "        \n",
    "        The return type of `slice()` function is an object of class 'slice'. \n",
    "        '''\n",
    "        the_rest = slice(1, None)     # `the_rest` is an object of type 'slice' class\n",
    "        sub_string = input[the_rest]  # convert the `slice` object into a list\n",
    "        print(the_rest)\n",
    "        print(sub_string)\n",
    "        # Recursive call\n",
    "        reversed_substring = reverse_string(sub_string)\n",
    "        \n",
    "        return reversed_substring + first_char\n"
   ]
  },
  {
   "cell_type": "code",
   "execution_count": 2,
   "id": "e9bbbec4",
   "metadata": {},
   "outputs": [
    {
     "name": "stdout",
     "output_type": "stream",
     "text": [
      "slice(1, None, None)\n",
      "bc\n",
      "slice(1, None, None)\n",
      "c\n",
      "slice(1, None, None)\n",
      "\n"
     ]
    },
    {
     "data": {
      "text/plain": [
       "'cba'"
      ]
     },
     "execution_count": 2,
     "metadata": {},
     "output_type": "execute_result"
    }
   ],
   "source": [
    "reverse_string('abc')"
   ]
  },
  {
   "cell_type": "code",
   "execution_count": null,
   "id": "1cd1440e",
   "metadata": {},
   "outputs": [],
   "source": []
  }
 ],
 "metadata": {
  "kernelspec": {
   "display_name": "Python 3 (ipykernel)",
   "language": "python",
   "name": "python3"
  },
  "language_info": {
   "codemirror_mode": {
    "name": "ipython",
    "version": 3
   },
   "file_extension": ".py",
   "mimetype": "text/x-python",
   "name": "python",
   "nbconvert_exporter": "python",
   "pygments_lexer": "ipython3",
   "version": "3.8.10"
  }
 },
 "nbformat": 4,
 "nbformat_minor": 5
}
