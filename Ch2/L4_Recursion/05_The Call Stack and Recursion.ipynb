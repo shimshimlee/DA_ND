{
 "cells": [
  {
   "cell_type": "markdown",
   "id": "9af4dbc2",
   "metadata": {},
   "source": [
    "### What is a *call stack*?\n",
    "\n",
    "When we use functions in our code, the computer makes use of a data structure called a **call stack**. As the name suggests, a *call stack* is a type of stack—meaning that it is a *Last-In, First-Out* (LIFO) data structure.\n",
    "\n",
    "So it's a type of stack—but a stack of *what*, exactly? \n",
    "\n",
    "Essentially, a *call stack* is a stack of *frames* that are used for the *functions* that we are calling. When we call a function, say `print_integers(5)`, a *frame* is created in memory. All the variables local to the function are created in this memory frame. And as soon as this frame is created, it's pushed onto the call stack.\n",
    "\n",
    "The frame that lies at the top of the call stack is executed first. And as soon as the function finishes executing, this frame is discarded from the *call stack*. \n"
   ]
  },
  {
   "cell_type": "code",
   "execution_count": 1,
   "id": "08fe3159",
   "metadata": {},
   "outputs": [],
   "source": [
    "def add(num_one, num_two):\n",
    "    output = num_one + num_two\n",
    "    return output"
   ]
  },
  {
   "cell_type": "code",
   "execution_count": 2,
   "id": "6676482c",
   "metadata": {},
   "outputs": [
    {
     "name": "stdout",
     "output_type": "stream",
     "text": [
      "12\n"
     ]
    }
   ],
   "source": [
    "result = add(5, 7)\n",
    "print(result)"
   ]
  },
  {
   "cell_type": "markdown",
   "id": "063f4d3e",
   "metadata": {},
   "source": [
    "\n",
    "When Python executes line 1 in the previous cell (`result = add(5, 7)`), the following things happen in memory:\n",
    "\n",
    "\n",
    "* A frame is created for the `add` function. This frame is then pushed onto the *call stack*. We do not have to worry about this because Python takes care of this for us. \n",
    "\n",
    "\n",
    "* Next, the parameters `num_one` and `num_two` get the values `5` and `7`, respectively\n",
    "\n",
    "If we run this code in Python tutor website [http://pythontutor.com/](http://pythontutor.com/) , we can get a nice visualization of what's happening \"behind the scenes\" in memory:\n",
    "\n",
    "<img src='./stack-frame-resources/01.png'>\n",
    "\n",
    "\n",
    "* Python then moves on to the first line of the function. The first line of the function is\n",
    "    \n",
    "        output = num_one + num_two\n",
    "      \n",
    "    Here an expression is being evaluated and the result is stored in a new variable. The expression here is sum of two numbers the result of which is stored in the variable `output`. We know that whenever an expression is evaluated, the right-hand side of the `= sign` is evaluated first. So, the numbers `5 and 7` will be added first.\n",
    "     \n",
    "     \n",
    "* Once the right-hand side is completely evaluated, then the assignment operation happens i.e. now the result of `5 + 7` will be stored in the variable `output`.\n",
    "<img src='./stack-frame-resources/02.png'>   \n",
    "\n",
    "\n",
    "* In the next line, we are returning this value. \n",
    "\n",
    "        return output\n",
    "        \n",
    "   Python acknowledged this return statement. \n",
    "   <img src='./stack-frame-resources/03.png'>\n",
    "   \n",
    "   \n",
    "* Now the last line of the function has been executed. Therefore, this function can now be discarded from the stack frame. Also, the right-hand side of the expression `result = add(5, 7)` has finished evaluation. Now, the result of this evaluation will be stored in the variable `result`.\n",
    "\n",
    "   <img src='./stack-frame-resources/04.png'>\n"
   ]
  },
  {
   "cell_type": "code",
   "execution_count": 4,
   "id": "50c5539a",
   "metadata": {},
   "outputs": [],
   "source": [
    "def print_integers(n):\n",
    "    if n <= 0:\n",
    "        return\n",
    "    print(n)\n",
    "    print_integers(n - 1)"
   ]
  },
  {
   "cell_type": "code",
   "execution_count": 5,
   "id": "cf9ea746",
   "metadata": {},
   "outputs": [
    {
     "name": "stdout",
     "output_type": "stream",
     "text": [
      "5\n",
      "4\n",
      "3\n",
      "2\n",
      "1\n"
     ]
    }
   ],
   "source": [
    "print_integers(5)"
   ]
  },
  {
   "cell_type": "code",
   "execution_count": null,
   "id": "e8e48f00",
   "metadata": {},
   "outputs": [],
   "source": []
  }
 ],
 "metadata": {
  "kernelspec": {
   "display_name": "Python 3 (ipykernel)",
   "language": "python",
   "name": "python3"
  },
  "language_info": {
   "codemirror_mode": {
    "name": "ipython",
    "version": 3
   },
   "file_extension": ".py",
   "mimetype": "text/x-python",
   "name": "python",
   "nbconvert_exporter": "python",
   "pygments_lexer": "ipython3",
   "version": "3.8.10"
  }
 },
 "nbformat": 4,
 "nbformat_minor": 5
}
