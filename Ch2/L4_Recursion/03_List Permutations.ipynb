{
 "cells": [
  {
   "cell_type": "markdown",
   "id": "213fff9d",
   "metadata": {},
   "source": [
    "# Permutation"
   ]
  },
  {
   "cell_type": "markdown",
   "id": "33ff7d1f",
   "metadata": {},
   "source": [
    "\n",
    "**Question** - Let's use recursion to help us solve the following permutation problem:\n",
    "\n",
    "Given a list of items, the goal is to find all of the permutations of that list. For example,<br>\n",
    "Given a list like: `[0, 1, 2]` <br>\n",
    "Permutations: `[[0, 1, 2], [0, 2, 1], [1, 0, 2], [1, 2, 0], [2, 0, 1], [2, 1, 0]]` <br><br>\n",
    "Notice that the expected output is a list of permutation with each permuted item being represented by a list. Such an object that contains other object is called \"compound\" object. <br>\n",
    "\n",
    "**The Idea**<br>\n",
    "Build a compoundList incrementally starting with a blank list, and permute (add) each element of original input list at all possible positions. <br><br>\n",
    "\n",
    "For example, take `[0, 1, 2]` as the original input list:<br>\n",
    "\n",
    "1. Start with a blank compoundList `[[]]`. This is actually the last call of recursive function stack. Pick the element `2` of original input list, making the compoundList as `[[2]]`<br><br>\n",
    "\n",
    "2. Pick next element `1` of original input list, and add this element at position 0, and 1 for each list of previous compoundList. **We will require to create copy of all lists of previous compoundList, and add the new element.** Now, the compoundList will become `[[1, 2], [2, 1]]`.<br><br>\n",
    "\n",
    "3. Pick next element `0` of original input list, and add this element at position 0, 1, and 2 for each list of previous compoundList. Now, the compoundList will become `[[0, 1, 2], [1, 0, 2], [1, 2, 0], [0, 2, 1], [2, 0, 1], [2, 1, 0]]` .<br><br>\n"
   ]
  },
  {
   "cell_type": "markdown",
   "id": "ef318de5",
   "metadata": {},
   "source": [
    "\n",
    "**Additional Resource**<br>\n",
    "While dealing with a \"compound\" object, a simple copy operation might not work as expected. You would need a function that can create a deep copy. For this purpose, you can make use of `deepcopy()` function from the `copy` module in Python. This module provides the function for normal (Shallow) and deep copy operations. Refer here - https://docs.python.org/3/library/copy.html for syntax and detailed information, that says:  <br>\n",
    "<br>\n",
    ">**Difference between Deep and Shallow Copy**<br>\n",
    "The difference between shallow and deep copying is only relevant for compound objects (objects that contain other objects, like lists or class instances):\n",
    " - A shallow copy constructs a new compound object and then inserts references into it to the objects found in the original.\n",
    " - A deep copy constructs a new compound object and then, recursively, inserts copies into it of the objects found in the original.\n",
    " \n",
    "**Example Illustration of deep copy, shallow copy, and assignment operator**<br>"
   ]
  },
  {
   "cell_type": "code",
   "execution_count": 1,
   "id": "5edd7d20",
   "metadata": {},
   "outputs": [
    {
     "name": "stdout",
     "output_type": "stream",
     "text": [
      "True\n",
      "True\n",
      "False\n",
      "True\n",
      "False\n",
      "False\n"
     ]
    }
   ],
   "source": [
    "import copy                                           # `copy` module\n",
    "\n",
    "list1 = [0, 1, 2]\n",
    "list2 = [7, 8, 9]                                     \n",
    "compoundList1 = [list1, list2]                        # create a compound object\n",
    "\n",
    "\n",
    "'''ASSIGNMENT OPERATION - Points a new reference to the existing object.'''\n",
    "compoundList2 = compoundList1\n",
    "\n",
    "# id() - returns the identity of the object passed\n",
    "print(id(compoundList1) == id(compoundList2))          # True - compoundList2 is the same object as compoundList1\n",
    "print(id(compoundList1[0]) == id(compoundList2[0]))    # True - compoundList2[0] is the same object as compoundList1[0]\n",
    "\n",
    "\n",
    "'''SHALLOW COPY'''\n",
    "compoundList2 = copy.copy(compoundList1)\n",
    "\n",
    "print(id(compoundList1) == id(compoundList2))          # False - compoundList2 is now a new object\n",
    "print(id(compoundList1[0]) == id(compoundList2[0]))    # True - compoundList2[0] is the same object as compoundList1[0]\n",
    "\n",
    "\n",
    "'''DEEP COPY'''\n",
    "compoundList2 = copy.deepcopy(compoundList1)\n",
    "\n",
    "print(id(compoundList1) == id(compoundList2))          # False - compoundList2 is now a new object\n",
    "print(id(compoundList1[0]) == id(compoundList2[0]))    # False - compoundList2[0] is now a new object"
   ]
  },
  {
   "cell_type": "markdown",
   "id": "0da23bba",
   "metadata": {},
   "source": [
    "### Exercise - Write the function definition here"
   ]
  },
  {
   "cell_type": "code",
   "execution_count": 13,
   "id": "4f602496",
   "metadata": {},
   "outputs": [],
   "source": [
    "\"\"\"\n",
    "Args: myList: list of items to be permuted\n",
    "Returns: list of permutation with each permuted item being represented by a list\n",
    "\"\"\"\n",
    "    \n",
    "import copy\n",
    "\n",
    "def permute(inputList):\n",
    "        # a compound list\n",
    "    finalCompoundList = []\n",
    "    \n",
    "    #Set a base condition\n",
    "    if len(inputList) == 0 :\n",
    "        finalCompoundList.append([])\n",
    "        \n",
    "    else : \n",
    "        # We are going to split the input into two lists as follows:\n",
    "        # `first_list` consisting of the first element on the `inputList`\n",
    "        # `rest_list` consisting the remaining `inputList`\n",
    "        \n",
    "        first_element = inputList[0]\n",
    "        after_first = slice(1,None)\n",
    "        rest_list = inputList[after_first]\n",
    "        \n",
    "        # Call the recursive function to split the `rest_list` further until it meets the base condition\n",
    "        # and store the last `finalCompoundList` output into `sub_compoundList` \n",
    "\n",
    "        sub_compoundList = permute(rest_list)\n",
    "        \n",
    "        # Once the recursion function meets the base condition, we can build the permutation by\n",
    "        # iterating through all lists of the `compoundList` returned from previous recursive call\n",
    "        \n",
    "        for aList in sub_compoundList:\n",
    "            # Permuted the `first_element` at all positions 0, 1, 2 ... len(aList) in each iteration\n",
    "            for j in range(0, len(aList)+1) :\n",
    "                \n",
    "                                # A normal copy/assignment will change aList[j] element\n",
    "                bList = copy.deepcopy(aList)  \n",
    "                \n",
    "                # A new list with size +1 as compared to aList\n",
    "                # is created by inserting the `first_element` at position j in bList\n",
    "                bList.insert(j, first_element)\n",
    "                \n",
    "                # Append the newly created list to the finalCompoundList\n",
    "                finalCompoundList.append(bList)\n",
    "                \n",
    "    return finalCompoundList"
   ]
  },
  {
   "cell_type": "code",
   "execution_count": null,
   "id": "ae5d3672",
   "metadata": {},
   "outputs": [],
   "source": []
  }
 ],
 "metadata": {
  "kernelspec": {
   "display_name": "Python 3 (ipykernel)",
   "language": "python",
   "name": "python3"
  },
  "language_info": {
   "codemirror_mode": {
    "name": "ipython",
    "version": 3
   },
   "file_extension": ".py",
   "mimetype": "text/x-python",
   "name": "python",
   "nbconvert_exporter": "python",
   "pygments_lexer": "ipython3",
   "version": "3.8.10"
  }
 },
 "nbformat": 4,
 "nbformat_minor": 5
}
