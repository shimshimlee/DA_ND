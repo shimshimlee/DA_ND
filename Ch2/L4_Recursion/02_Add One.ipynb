{
 "cells": [
  {
   "cell_type": "markdown",
   "id": "54057abb",
   "metadata": {},
   "source": [
    "\n",
    "*Let us solve a problem that we solved previously in the last lesson without using recursion. It will make you realize that recursion can make our code look simpler.*\n",
    "​\n",
    "### Problem Statement\n",
    "You are given a non-negative number in the form of list elements. For example, the number `123` would be provided as `arr = [1, 2, 3]`. Add one to the number and return the output in the form of a new list. \n",
    "​\n",
    "**Example 1:**\n",
    "* `input = [1, 2, 3]`\n",
    "* `output = [1, 2, 4]`\n",
    "​\n",
    "**Example 2:**\n",
    "* `input = [1, 2, 9]`\n",
    "* `output = [1, 3, 0]`\n",
    "​\n",
    "**Example 3:**\n",
    "* `input = [9, 9, 9]`\n",
    "* `output = [1, 0, 0, 0]`\n",
    "​\n",
    "### Exercise - Write the RECURSIVE function definition here\n"
   ]
  },
  {
   "cell_type": "code",
   "execution_count": 1,
   "id": "724ea1df",
   "metadata": {},
   "outputs": [],
   "source": [
    "# Recursive Solution\n",
    "def add_one(arr):\n",
    "    \"\"\"\n",
    "    :param: arr - list of digits representing some number x\n",
    "    return a list with digits represengint (x + 1)\n",
    "    \"\"\"\n",
    "    # Base case \n",
    "    if arr == [9]:\n",
    "        return [1, 0]\n",
    "    \n",
    "    # A simple case, where we just need to increment the last digit\n",
    "    if arr[-1] < 9:\n",
    "        arr[-1] += 1\n",
    "\n",
    "    # Case when the last digit is 9.\n",
    "    else:\n",
    "        '''Recursive call'''\n",
    "        # We have used arr[:-1], that means all elements of the list except the last one.\n",
    "        # Example, for original input arr=[1,2,9], we will pass [1,2] in next call.\n",
    "        arr = add_one(arr[:-1]) + [0]\n",
    "        \n",
    "    return arr\n",
    "\n"
   ]
  },
  {
   "cell_type": "code",
   "execution_count": 2,
   "id": "d6846262",
   "metadata": {},
   "outputs": [
    {
     "name": "stdout",
     "output_type": "stream",
     "text": [
      "[2, 0, 0]\n"
     ]
    }
   ],
   "source": [
    "print (add_one([1, 9, 9]))"
   ]
  },
  {
   "cell_type": "code",
   "execution_count": null,
   "id": "ff253eb7",
   "metadata": {},
   "outputs": [],
   "source": []
  }
 ],
 "metadata": {
  "kernelspec": {
   "display_name": "Python 3 (ipykernel)",
   "language": "python",
   "name": "python3"
  },
  "language_info": {
   "codemirror_mode": {
    "name": "ipython",
    "version": 3
   },
   "file_extension": ".py",
   "mimetype": "text/x-python",
   "name": "python",
   "nbconvert_exporter": "python",
   "pygments_lexer": "ipython3",
   "version": "3.8.10"
  }
 },
 "nbformat": 4,
 "nbformat_minor": 5
}
