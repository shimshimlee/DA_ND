{
 "cells": [
  {
   "cell_type": "code",
   "execution_count": 17,
   "id": "3e2f1a52",
   "metadata": {},
   "outputs": [
    {
     "name": "stdout",
     "output_type": "stream",
     "text": [
      "['t1.c', 'b.c', 'a.c', 'a.c']\n",
      "['t1.h', 'b.h', 'a.h', 'a.h']\n",
      "[]\n"
     ]
    }
   ],
   "source": [
    "import os\n",
    "\n",
    "def find_files(suffix, path):\n",
    "    \"\"\"\n",
    "    Find all files beneath path with file name suffix.\n",
    "\n",
    "    Note that a path may contain further subdirectories\n",
    "    and those subdirectories may also contain further subdirectories.\n",
    "\n",
    "    There are no limit to the depth of the subdirectories can be.\n",
    "\n",
    "    Args:\n",
    "      suffix(str): suffix if the file name to be found\n",
    "      path(str): path of the file system\n",
    "\n",
    "    Returns:\n",
    "       a list of paths\n",
    "    \"\"\"\n",
    "    if suffix == ''  :\n",
    "        return []\n",
    "    \n",
    "    if len(os.listdir(path)) == 0 :\n",
    "        return []\n",
    "    \n",
    "    All_elements = os.listdir(path)\n",
    "    files = [file for file in All_elements if  ('.'+ suffix) in file]\n",
    "    folders = [folder for folder in All_elements if '.' not in folder]\n",
    "    \n",
    "    for folder in folders :\n",
    "        files.extend(find_files(suffix=suffix, path = path + '/' + folder))        \n",
    "    \n",
    "    return files\n",
    "\n",
    "## Add your own test cases: include at least three test cases\n",
    "## and two of them must include edge cases, such as null, empty or very large values\n",
    "path_base = os.getcwd() + '/testdir'\n",
    "## Test Case 1\n",
    "print(find_files(suffix='c', path=path_base))\n",
    "## Test Case 2\n",
    "print(find_files(suffix='h', path=path_base))\n",
    "## Test Case 3\n",
    "print(find_files(suffix='x', path=path_base))"
   ]
  },
  {
   "cell_type": "code",
   "execution_count": 16,
   "id": "bdad5b86",
   "metadata": {},
   "outputs": [
    {
     "name": "stdout",
     "output_type": "stream",
     "text": [
      "['t1.c', 'b.c', 'a.c', 'a.c']\n"
     ]
    }
   ],
   "source": [
    "path_base = os.getcwd() + '/testdir'\n",
    "print(find_files(suffix='c', path=path_base))"
   ]
  },
  {
   "cell_type": "code",
   "execution_count": 3,
   "id": "2ade489b",
   "metadata": {},
   "outputs": [],
   "source": [
    "import os\n",
    "\n",
    "path_base = os.getcwd() + '/testdir'\n",
    "path_elements = os.listdir(path_base)\n"
   ]
  },
  {
   "cell_type": "code",
   "execution_count": 7,
   "id": "f9e9c88e",
   "metadata": {},
   "outputs": [
    {
     "name": "stdout",
     "output_type": "stream",
     "text": [
      "t1.c:Zone.Identifier\n",
      "subdir4\n",
      "t1.h:Zone.Identifier\n",
      "subdir2\n",
      "t1.h\n",
      "t1.c\n",
      "subdir3\n",
      "subdir5\n",
      "subdir1\n"
     ]
    }
   ],
   "source": [
    "path_elements\n",
    "for file in path_elements :\n",
    "    print(file)\n",
    "    "
   ]
  }
 ],
 "metadata": {
  "kernelspec": {
   "display_name": "Python 3 (ipykernel)",
   "language": "python",
   "name": "python3"
  },
  "language_info": {
   "codemirror_mode": {
    "name": "ipython",
    "version": 3
   },
   "file_extension": ".py",
   "mimetype": "text/x-python",
   "name": "python",
   "nbconvert_exporter": "python",
   "pygments_lexer": "ipython3",
   "version": "3.8.10"
  }
 },
 "nbformat": 4,
 "nbformat_minor": 5
}
