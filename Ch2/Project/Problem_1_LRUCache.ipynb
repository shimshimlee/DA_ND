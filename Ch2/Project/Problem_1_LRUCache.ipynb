{
 "cells": [
  {
   "cell_type": "code",
   "execution_count": 7,
   "id": "984dfca1",
   "metadata": {},
   "outputs": [],
   "source": [
    "class DLL_Node:\n",
    "    def __init__(self, key, value) :\n",
    "        self.key = key\n",
    "        self.value = value\n",
    "        self.next = None\n",
    "        self.prev = None\n",
    "\n",
    "class LRU_Cache(object) :\n",
    "    def __init__(self, size) :\n",
    "        self.size = size\n",
    "        self.dict = dict()\n",
    "        self.head = DLL_Node(0,0)\n",
    "        self.tail = DLL_Node(0,0)\n",
    "        self.head.next = self.tail\n",
    "        self.tail.prev = self.head\n",
    "\n",
    "\n",
    "    def get(self, key) :\n",
    "        if key in self.dict :\n",
    "            node = self.dict[key]\n",
    "            self.remove(node)\n",
    "            self.add(node)\n",
    "            return node.value\n",
    "        return -1\n",
    "    \n",
    "    \n",
    "    def set(self, key, value) :\n",
    "        if key in self.dict :\n",
    "            node = self.dict[key]\n",
    "            self.remove(node)\n",
    "            self.add(node)\n",
    "            return\n",
    "        \n",
    "        node = DLL_Node(key, value)\n",
    "        self.add(node)\n",
    "        self.dict[key] = node\n",
    "        \n",
    "        if len(self.dict) > self.size :\n",
    "            node = self.head.next\n",
    "            self.remove(node)\n",
    "            del self.dict[node.key]\n",
    "            \n",
    "    def remove(self, node) :\n",
    "        p = node.prev\n",
    "        n = node.next\n",
    "        p.next = n\n",
    "        n.prev = p\n",
    "    \n",
    "    def add(self, node) :\n",
    "        p = self.tail.prev\n",
    "        p.next = node\n",
    "        self.tail.prev = node\n",
    "        node.prev = p\n",
    "        node.next = self.tail"
   ]
  },
  {
   "cell_type": "code",
   "execution_count": 8,
   "id": "b32f3d6e",
   "metadata": {},
   "outputs": [
    {
     "name": "stdout",
     "output_type": "stream",
     "text": [
      "***** Testcase 1 *****\n",
      "1\n",
      "2\n",
      "-1\n",
      "-1\n"
     ]
    }
   ],
   "source": [
    "# Tests\n",
    "# Testcase 1\n",
    "print('***** Testcase 1 *****')\n",
    "our_cache1 = LRU_Cache(5)\n",
    "our_cache1.set(1, 1)\n",
    "our_cache1.set(2, 2)\n",
    "our_cache1.set(3, 3)\n",
    "our_cache1.set(4, 4)\n",
    "print(our_cache1.get(1))  # returns 1\n",
    "print(our_cache1.get(2))  # returns 2\n",
    "print(our_cache1.get(9))  # returns -1 because 9 is not present in the cache\n",
    "our_cache1.set(5, 5)\n",
    "our_cache1.set(6, 6)\n",
    "# returns -1 because the cache reached it's capacity and 3 was the LRU entry\n",
    "print(our_cache1.get(3))"
   ]
  },
  {
   "cell_type": "code",
   "execution_count": 9,
   "id": "68912d2b",
   "metadata": {},
   "outputs": [
    {
     "name": "stdout",
     "output_type": "stream",
     "text": [
      "***** Testcase 2 *****\n",
      "-1\n",
      "2\n",
      "5\n",
      "-1\n"
     ]
    }
   ],
   "source": [
    "# Testcase 2\n",
    "print('***** Testcase 2 *****')\n",
    "our_cache2 = LRU_Cache(1)\n",
    "our_cache2.set(1, 1)\n",
    "our_cache2.set(2, 2)\n",
    "print(our_cache2.get(1)) # return -1\n",
    "print(our_cache2.get(2)) # return 2\n",
    "our_cache2.set(5, 5)\n",
    "print(our_cache2.get(5)) # return 5\n",
    "print(our_cache2.get(6)) # return -1"
   ]
  },
  {
   "cell_type": "code",
   "execution_count": 10,
   "id": "c57ba19c",
   "metadata": {},
   "outputs": [
    {
     "name": "stdout",
     "output_type": "stream",
     "text": [
      "***** Testcase 3 *****\n",
      "1\n",
      "2\n",
      "5\n",
      "-1\n"
     ]
    }
   ],
   "source": [
    "# Testcase 3\n",
    "print('***** Testcase 3 *****')\n",
    "our_cache2 = LRU_Cache(3)\n",
    "our_cache2.set(1, 1)\n",
    "our_cache2.set(2, 2)\n",
    "print(our_cache2.get(1)) # return 1\n",
    "print(our_cache2.get(2)) # return 2\n",
    "our_cache2.set(5, 5)\n",
    "print(our_cache2.get(5)) # retrun 5\n",
    "print(our_cache2.get(6)) # return -1"
   ]
  },
  {
   "cell_type": "code",
   "execution_count": null,
   "id": "f4d5a372",
   "metadata": {},
   "outputs": [],
   "source": []
  }
 ],
 "metadata": {
  "kernelspec": {
   "display_name": "Python 3 (ipykernel)",
   "language": "python",
   "name": "python3"
  },
  "language_info": {
   "codemirror_mode": {
    "name": "ipython",
    "version": 3
   },
   "file_extension": ".py",
   "mimetype": "text/x-python",
   "name": "python",
   "nbconvert_exporter": "python",
   "pygments_lexer": "ipython3",
   "version": "3.8.10"
  }
 },
 "nbformat": 4,
 "nbformat_minor": 5
}
