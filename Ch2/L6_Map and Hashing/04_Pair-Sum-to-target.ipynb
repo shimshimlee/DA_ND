{
 "cells": [
  {
   "cell_type": "markdown",
   "id": "558c7994",
   "metadata": {},
   "source": [
    "### Problem statement\n",
    "\n",
    "Given an `input_list` and a `target`, return the pair of indices in the list that holds the values which sum to the `target`. For example, \n",
    "\n",
    "`input_list = [1, 5, 9, 7]` and `target = 8`, the answer would be `[0, 3]` \n",
    "\n",
    "**Note**<br>\n",
    "1. The best solution takes O(n) time. *This means that you cannot traverse the given list more than once.* **Hint - Think of an additional data structure that you should use here.** \n",
    "2. You can assume that the list does not have any duplicates."
   ]
  },
  {
   "cell_type": "code",
   "execution_count": 3,
   "id": "c3478a79",
   "metadata": {},
   "outputs": [],
   "source": [
    "def pair_sum_to_target(input_list, target) :\n",
    "    \n",
    "    index_dict = dict()\n",
    "    \n",
    "    for index, element in enumerate(input_list) :\n",
    "        #print(index, element)\n",
    "        \n",
    "        if (target-element) in index_dict :\n",
    "            \n",
    "            return [index_dict[target-element], index]\n",
    "        \n",
    "        index_dict[element] = index\n",
    "    \n",
    "    return [-1,-1]"
   ]
  },
  {
   "cell_type": "code",
   "execution_count": 4,
   "id": "98c39139",
   "metadata": {},
   "outputs": [],
   "source": [
    "def test_function(test_case):\n",
    "    output = pair_sum_to_target(test_case[0], test_case[1])\n",
    "    print(output)\n",
    "    if sorted(output) == test_case[2]:\n",
    "        print(\"Pass\")\n",
    "    else:\n",
    "        print(\"Fail\")"
   ]
  },
  {
   "cell_type": "code",
   "execution_count": 5,
   "id": "5f88bb05",
   "metadata": {},
   "outputs": [
    {
     "name": "stdout",
     "output_type": "stream",
     "text": [
      "0 10\n",
      "1 5\n",
      "2 9\n",
      "3 8\n",
      "4 12\n",
      "5 1\n",
      "6 16\n",
      "7 6\n",
      "0 10\n",
      "1 5\n",
      "2 9\n",
      "3 8\n",
      "4 12\n",
      "5 1\n",
      "6 16\n",
      "7 6\n",
      "[0, 7]\n",
      "Pass\n"
     ]
    }
   ],
   "source": [
    "pair_sum_to_target([10, 5, 9, 8, 12, 1, 16, 6], 16)\n",
    "test_case_2 = [[10, 5, 9, 8, 12, 1, 16, 6], 16, [0, 7]]\n",
    "test_function(test_case_2)"
   ]
  },
  {
   "cell_type": "code",
   "execution_count": null,
   "id": "3003d402",
   "metadata": {},
   "outputs": [],
   "source": []
  }
 ],
 "metadata": {
  "kernelspec": {
   "display_name": "Python 3 (ipykernel)",
   "language": "python",
   "name": "python3"
  },
  "language_info": {
   "codemirror_mode": {
    "name": "ipython",
    "version": 3
   },
   "file_extension": ".py",
   "mimetype": "text/x-python",
   "name": "python",
   "nbconvert_exporter": "python",
   "pygments_lexer": "ipython3",
   "version": "3.8.10"
  }
 },
 "nbformat": 4,
 "nbformat_minor": 5
}
