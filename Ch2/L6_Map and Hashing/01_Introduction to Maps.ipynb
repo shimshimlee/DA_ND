{
 "cells": [
  {
   "cell_type": "markdown",
   "id": "96cf3d4d",
   "metadata": {},
   "source": [
    "## Python Dictionary - Introduction "
   ]
  },
  {
   "cell_type": "code",
   "execution_count": 1,
   "id": "d0606035",
   "metadata": {},
   "outputs": [
    {
     "name": "stdout",
     "output_type": "stream",
     "text": [
      "1\n"
     ]
    }
   ],
   "source": [
    "udacity = {}\n",
    "udacity['u'] = 1\n",
    "udacity['d'] = 2\n",
    "udacity['a'] = 3\n",
    "\n",
    "print (udacity['u'])\n",
    "# {'u': 1, 'd': 2, 'a': 3, 'c': 4, 'i': 5, 't': 6, 'y': 7}"
   ]
  },
  {
   "cell_type": "markdown",
   "id": "33be0e0e",
   "metadata": {},
   "source": [
    "Dictionaries are wonderfully flexible—you can store a wide variety of structures as values. You store another dictionary or a list:"
   ]
  },
  {
   "cell_type": "code",
   "execution_count": 3,
   "id": "5fe4677b",
   "metadata": {},
   "outputs": [
    {
     "name": "stdout",
     "output_type": "stream",
     "text": [
      "{'d': [1], 'i': [2], 'c': [3, 4]}\n"
     ]
    }
   ],
   "source": [
    "dictionary = {}\n",
    "dictionary['d'] = [1]\n",
    "dictionary['i'] = [2]\n",
    "dictionary['c'] = [3]\n",
    "dictionary['c'].append(4)\n",
    "\n",
    "print(dictionary)\n"
   ]
  },
  {
   "cell_type": "code",
   "execution_count": 6,
   "id": "1e3367c4",
   "metadata": {},
   "outputs": [],
   "source": [
    "# Task 1 - Solution\n",
    "locations = {'North America': {'USA': ['Mountain View']}}\n",
    "locations['North America']['USA'].append('Atlanta')\n",
    "locations['Asia'] = {'India': ['Bangalore']}\n",
    "locations['Asia']['India'].append('New Delhi')\n",
    "locations['Asia']['China'] = ['Shanghai']\n",
    "locations['Africa'] = {'Egypt': ['Cairo']}\n"
   ]
  },
  {
   "cell_type": "code",
   "execution_count": 7,
   "id": "69765649",
   "metadata": {},
   "outputs": [
    {
     "name": "stdout",
     "output_type": "stream",
     "text": [
      "1\n",
      "Atlanta\n",
      "Mountain View\n"
     ]
    }
   ],
   "source": [
    "# Task 2 - Solution\n",
    "# Part 1 - A list of all cities in the USA in alphabetic order.\n",
    "print (1)\n",
    "usa_sorted = sorted(locations['North America']['USA'])\n",
    "for city in usa_sorted:\n",
    "    print (city)"
   ]
  },
  {
   "cell_type": "code",
   "execution_count": 9,
   "id": "23ae12bd",
   "metadata": {},
   "outputs": [
    {
     "name": "stdout",
     "output_type": "stream",
     "text": [
      "2\n",
      "India\n",
      "['Bangalore', 'New Delhi']\n",
      "China\n",
      "['Shanghai']\n",
      "Bangalore - India\n",
      "New Delhi - India\n",
      "Shanghai - China\n"
     ]
    }
   ],
   "source": [
    "# Part 2 - All cities in Asia, in alphabetic order\n",
    "print (2)\n",
    "asia_cities = []\n",
    "for country, cities in locations['Asia'].items():\n",
    "    print(country)\n",
    "    print(cities)\n",
    "    for city in cities:\n",
    "        asia_cities.append('{} - {}'.format(city, country))\n",
    "asia_sorted = sorted(asia_cities)\n",
    "for city in asia_sorted:\n",
    "    print (city)"
   ]
  },
  {
   "cell_type": "code",
   "execution_count": null,
   "id": "f7df8eb4",
   "metadata": {},
   "outputs": [],
   "source": []
  }
 ],
 "metadata": {
  "kernelspec": {
   "display_name": "Python 3 (ipykernel)",
   "language": "python",
   "name": "python3"
  },
  "language_info": {
   "codemirror_mode": {
    "name": "ipython",
    "version": 3
   },
   "file_extension": ".py",
   "mimetype": "text/x-python",
   "name": "python",
   "nbconvert_exporter": "python",
   "pygments_lexer": "ipython3",
   "version": "3.8.10"
  }
 },
 "nbformat": 4,
 "nbformat_minor": 5
}
