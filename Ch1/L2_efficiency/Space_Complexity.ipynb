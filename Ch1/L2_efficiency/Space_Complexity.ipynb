{
 "cells": [
  {
   "cell_type": "code",
   "execution_count": 2,
   "id": "dbae8a2b",
   "metadata": {},
   "outputs": [],
   "source": [
    "def our_constant_function():\n",
    "\n",
    "    x = 3 # Type int\n",
    "    y = 345 # Type int\n",
    "    z = 11 # Type int\n",
    "\n",
    "    answer = x+y+z\n",
    "\n",
    "    return answer\n",
    "# we have four integers (x, y, z and answer) and therefore our space complexity will be 4*4 = 16 bytes. "
   ]
  },
  {
   "cell_type": "code",
   "execution_count": 3,
   "id": "8aaa1016",
   "metadata": {},
   "outputs": [],
   "source": [
    "def our_linear_function(n):\n",
    "\n",
    "    n = n # Type int\n",
    "    counter = 0 # Type int\n",
    "    list_ = [] # Assume that the list is empty (i.e., ignore the fact that there is actually meta data stored with Python lists)\n",
    "\n",
    "    while counter < n:\n",
    "        list_.append(counter)\n",
    "        counter = counter + 1\n",
    "\n",
    "    return list_\n",
    "#  our space complexity will be 4*n + 8 since we have an expanding integer list and two integer data types\n"
   ]
  },
  {
   "cell_type": "code",
   "execution_count": null,
   "id": "8d15bab7",
   "metadata": {},
   "outputs": [],
   "source": []
  }
 ],
 "metadata": {
  "kernelspec": {
   "display_name": "Python 3 (ipykernel)",
   "language": "python",
   "name": "python3"
  },
  "language_info": {
   "codemirror_mode": {
    "name": "ipython",
    "version": 3
   },
   "file_extension": ".py",
   "mimetype": "text/x-python",
   "name": "python",
   "nbconvert_exporter": "python",
   "pygments_lexer": "ipython3",
   "version": "3.8.10"
  }
 },
 "nbformat": 4,
 "nbformat_minor": 5
}
