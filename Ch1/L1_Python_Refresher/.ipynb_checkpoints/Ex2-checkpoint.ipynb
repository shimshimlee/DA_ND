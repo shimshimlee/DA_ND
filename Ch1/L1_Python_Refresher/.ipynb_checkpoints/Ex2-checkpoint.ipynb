{
 "cells": [
  {
   "cell_type": "code",
   "execution_count": 3,
   "id": "ce9efa77",
   "metadata": {},
   "outputs": [
    {
     "name": "stdout",
     "output_type": "stream",
     "text": [
      "1\n",
      "2\n",
      "6\n",
      "24\n",
      "120\n"
     ]
    }
   ],
   "source": [
    "def prod(a,b):\n",
    "    # TODO change output to the product of a and b\n",
    "    output = a * b\n",
    "    return output\n",
    "\n",
    "def fact_gen():\n",
    "    i = 1\n",
    "    n = i\n",
    "    while True:\n",
    "        output = prod(n, i)\n",
    "        yield output\n",
    "        i += 1\n",
    "        n = output\n",
    "        # TODO: update i and n\n",
    "        # Hint: i is a successive integer and n is the previous product\n",
    "\n",
    "\n",
    "# Test cases\n",
    "my_gen = fact_gen()\n",
    "num = 5\n",
    "for i in range(num):\n",
    "    print(next(my_gen))\n",
    "\n",
    "# Correct result when num = 5:\n",
    "# 1\n",
    "# 2\n",
    "# 6\n",
    "# 24\n",
    "# 120"
   ]
  },
  {
   "cell_type": "code",
   "execution_count": 13,
   "id": "51bd3d71",
   "metadata": {},
   "outputs": [
    {
     "name": "stdout",
     "output_type": "stream",
     "text": [
      "True\n",
      "True\n",
      "True\n",
      "False\n",
      "False\n",
      "False\n"
     ]
    }
   ],
   "source": [
    "# Define a function check_sudoku() here:\n",
    "def check_sudoku(square):\n",
    "    for row in square :\n",
    "        check_list = list(range(1, len(square[0])+1))\n",
    "        for i in row :\n",
    "            if i not in check_list :\n",
    "                return False\n",
    "            check_list.remove(i)\n",
    "            \n",
    "    for n in range(len(square[0])) :\n",
    "        check_list = list(range(1, len(square[0])+1))\n",
    "        for row in square :\n",
    "            if row[n] not in check_list :\n",
    "                return False\n",
    "            check_list.remove(i)\n",
    "            \n",
    "    \n",
    "    return True\n",
    "    \n",
    "# Test cases\n",
    "correct = [[1,2,3],\n",
    "           [2,3,1],\n",
    "           [3,1,2]]\n",
    "incorrect = [[1,2,3,4],\n",
    "             [2,3,1,3],\n",
    "             [3,1,2,3],\n",
    "             [4,4,4,4]]\n",
    "incorrect2 = [[1,2,3,4],\n",
    "             [2,3,1,4],\n",
    "             [4,1,2,3],\n",
    "             [3,4,1,2]]\n",
    "incorrect3 = [[1,2,3,4,5],\n",
    "              [2,3,1,5,6],\n",
    "              [4,5,2,1,3],\n",
    "              [3,4,5,2,1],\n",
    "              [5,6,4,3,2]]\n",
    "incorrect4 = [['a','b','c'],\n",
    "              ['b','c','a'],\n",
    "              ['c','a','b']]\n",
    "incorrect5 = [ [1, 1.5],\n",
    "               [1.5, 1]]\n",
    "\n",
    "    \n",
    "print(check_sudoku(incorrect))\n",
    "#>>> False\n",
    "print(check_sudoku(correct))\n",
    "#>>> True\n",
    "print(check_sudoku(incorrect2))\n",
    "#>>> False\n",
    "print(check_sudoku(incorrect3))\n",
    "#>>> False\n",
    "print(check_sudoku(incorrect4))\n",
    "#>>> False\n",
    "print(check_sudoku(incorrect5))\n",
    "#>>> False"
   ]
  },
  {
   "cell_type": "code",
   "execution_count": 12,
   "id": "12fbff82",
   "metadata": {},
   "outputs": [
    {
     "name": "stdout",
     "output_type": "stream",
     "text": [
      "[0, 1, 2]\n",
      "0\n",
      "1\n",
      "2\n"
     ]
    }
   ],
   "source": [
    "print(list(range(3)))\n",
    "for n in range(3):\n",
    "    print (n)"
   ]
  },
  {
   "cell_type": "code",
   "execution_count": null,
   "id": "1d0e5e16",
   "metadata": {},
   "outputs": [],
   "source": []
  }
 ],
 "metadata": {
  "kernelspec": {
   "display_name": "Python 3 (ipykernel)",
   "language": "python",
   "name": "python3"
  },
  "language_info": {
   "codemirror_mode": {
    "name": "ipython",
    "version": 3
   },
   "file_extension": ".py",
   "mimetype": "text/x-python",
   "name": "python",
   "nbconvert_exporter": "python",
   "pygments_lexer": "ipython3",
   "version": "3.8.10"
  }
 },
 "nbformat": 4,
 "nbformat_minor": 5
}
