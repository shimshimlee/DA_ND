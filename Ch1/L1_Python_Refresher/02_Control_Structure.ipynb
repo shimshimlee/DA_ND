{
 "cells": [
  {
   "cell_type": "code",
   "execution_count": 3,
   "id": "390f42cb",
   "metadata": {},
   "outputs": [
    {
     "name": "stdout",
     "output_type": "stream",
     "text": [
      "num is 5\n"
     ]
    }
   ],
   "source": [
    "num = 5\n",
    "if num<5:\n",
    "    print('number is smaller than 5')\n",
    "elif num==5:\n",
    "    print('num is 5')\n",
    "else :\n",
    "    print('num is greater than 5')"
   ]
  },
  {
   "cell_type": "code",
   "execution_count": null,
   "id": "fda14631",
   "metadata": {},
   "outputs": [],
   "source": []
  }
 ],
 "metadata": {
  "kernelspec": {
   "display_name": "Python 3 (ipykernel)",
   "language": "python",
   "name": "python3"
  },
  "language_info": {
   "codemirror_mode": {
    "name": "ipython",
    "version": 3
   },
   "file_extension": ".py",
   "mimetype": "text/x-python",
   "name": "python",
   "nbconvert_exporter": "python",
   "pygments_lexer": "ipython3",
   "version": "3.8.10"
  }
 },
 "nbformat": 4,
 "nbformat_minor": 5
}
