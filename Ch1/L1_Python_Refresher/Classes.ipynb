{
 "cells": [
  {
   "cell_type": "code",
   "execution_count": 2,
   "id": "64d9d9c0",
   "metadata": {},
   "outputs": [
    {
     "name": "stdout",
     "output_type": "stream",
     "text": [
      "Bob\n"
     ]
    }
   ],
   "source": [
    "class Person : \n",
    "    def __init__(self, name, age) :\n",
    "        self.person_name = name \n",
    "        self.age = age\n",
    "    \n",
    "    def birthday(self) :\n",
    "        self.person_age += 1\n",
    "    \n",
    "    def getName(self) :\n",
    "        return self.person_name\n",
    "\n",
    "bob = Person('Bob', 32)\n",
    "print(bob.getName())\n"
   ]
  },
  {
   "cell_type": "code",
   "execution_count": null,
   "id": "98a23d2c",
   "metadata": {},
   "outputs": [],
   "source": []
  }
 ],
 "metadata": {
  "kernelspec": {
   "display_name": "Python 3 (ipykernel)",
   "language": "python",
   "name": "python3"
  },
  "language_info": {
   "codemirror_mode": {
    "name": "ipython",
    "version": 3
   },
   "file_extension": ".py",
   "mimetype": "text/x-python",
   "name": "python",
   "nbconvert_exporter": "python",
   "pygments_lexer": "ipython3",
   "version": "3.8.10"
  }
 },
 "nbformat": 4,
 "nbformat_minor": 5
}
