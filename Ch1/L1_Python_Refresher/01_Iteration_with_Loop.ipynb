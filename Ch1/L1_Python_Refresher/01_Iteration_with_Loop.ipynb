{
 "cells": [
  {
   "cell_type": "code",
   "execution_count": 10,
   "id": "145a47f1",
   "metadata": {},
   "outputs": [],
   "source": [
    "my_list = [1, 2, 3, 4, 5]"
   ]
  },
  {
   "cell_type": "code",
   "execution_count": 11,
   "id": "8af9579b",
   "metadata": {},
   "outputs": [
    {
     "name": "stdout",
     "output_type": "stream",
     "text": [
      "the value of item is 1\n",
      "the value of item is 2\n",
      "the value of item is 3\n",
      "the value of item is 4\n",
      "the value of item is 5\n"
     ]
    }
   ],
   "source": [
    "for item in my_list:\n",
    "    print('the value of item is ' + str(item))"
   ]
  },
  {
   "cell_type": "code",
   "execution_count": 12,
   "id": "92762d2a",
   "metadata": {},
   "outputs": [
    {
     "name": "stdout",
     "output_type": "stream",
     "text": [
      "The index value is : 0. The value at i is : 1\n",
      "The index value is : 1. The value at i is : 2\n",
      "The index value is : 2. The value at i is : 3\n",
      "The index value is : 3. The value at i is : 4\n",
      "The index value is : 4. The value at i is : 5\n"
     ]
    }
   ],
   "source": [
    "for i, value in enumerate(my_list) :\n",
    "    print('The index value is : ' + str(i) + '. The value at i is : ' + str(value))"
   ]
  },
  {
   "cell_type": "code",
   "execution_count": 13,
   "id": "72667fe6",
   "metadata": {},
   "outputs": [
    {
     "name": "stdout",
     "output_type": "stream",
     "text": [
      "0\n",
      "1\n",
      "2\n",
      "3\n",
      "4\n",
      "5\n",
      "6\n",
      "7\n",
      "8\n",
      "9\n"
     ]
    }
   ],
   "source": [
    "i = 0\n",
    "while (i < 10) :\n",
    "    print (i)\n",
    "    i += 1"
   ]
  },
  {
   "cell_type": "code",
   "execution_count": 14,
   "id": "9ba1e267",
   "metadata": {},
   "outputs": [
    {
     "name": "stdout",
     "output_type": "stream",
     "text": [
      "[0, 2, 4]\n"
     ]
    }
   ],
   "source": [
    "my_dict = { 'a' : [0, 1, 2, 3], 'b' : [1, 2, 3, 4], 'c' : [2, 3, 4, 5]}\n",
    "i = 0\n",
    "output = []\n",
    "for key in my_dict :\n",
    "    output.append(my_dict[key][i])\n",
    "    i+=1\n",
    "print(output)"
   ]
  },
  {
   "cell_type": "code",
   "execution_count": null,
   "id": "ade489ae",
   "metadata": {},
   "outputs": [],
   "source": []
  }
 ],
 "metadata": {
  "kernelspec": {
   "display_name": "Python 3 (ipykernel)",
   "language": "python",
   "name": "python3"
  },
  "language_info": {
   "codemirror_mode": {
    "name": "ipython",
    "version": 3
   },
   "file_extension": ".py",
   "mimetype": "text/x-python",
   "name": "python",
   "nbconvert_exporter": "python",
   "pygments_lexer": "ipython3",
   "version": "3.8.10"
  }
 },
 "nbformat": 4,
 "nbformat_minor": 5
}
